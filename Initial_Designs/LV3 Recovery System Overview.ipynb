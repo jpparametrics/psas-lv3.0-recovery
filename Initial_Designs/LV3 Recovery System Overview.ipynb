{
 "cells": [
  {
   "cell_type": "markdown",
   "metadata": {},
   "source": [
    "# Design and Development of the LV3 Recovery System\n",
    "\n",
    "![Figure 1](files/Sketch_%20Deployment_Design_shrunk.JPG) \n",
    "  <br /> \n",
    " \n",
    "#### Marie House and Calvin Young\n",
    "### Portland State Aerospace Society"
   ]
  },
  {
   "cell_type": "markdown",
   "metadata": {},
   "source": [
    "## Abstract\n",
    "\n",
    "This document details the design and development of the two-stage recovery system used in the third launch vehicle (LV3) of the Portland State Aerospace Society. The recovery system consists of a five foot, MACH II high speed drogue parachute and an 18 foot standard main parachute, made of low-porosity 1.1 rip-stop nylon. The parachutes were purchased for payloads between 60 and 100 pounds, with impact velocities ranging from 15 to 25 feet per second. The total system fits into the six-inch diameter, 36 inch long Van Karman nosecone (CONFIRM/REWORD) and weighs approximately (FILL IN)."
   ]
  },
  {
   "cell_type": "markdown",
   "metadata": {},
   "source": [
    "## Background\n",
    "\n",
    "The old system utilized a PVC cap, wooden ring, and surgical tubing to act as a tension spring, effectively ejecting the nosecone away from the body of the rocket. It also included an aluminum bar attachment to secure the main 'chute. In order to cut the lines to the drogue 'chute, gun powder line cutters were used - multiple for redundancy. Both the drogue and main parachutes were cross-shaped. The system was housed in the body of the rocket.\n",
    "\n",
    "The need for development of a new recovery system came primarily from the fact that a new launch vehicle was built. The new vehicle is both lighter and larger, but will mostly likely increase in weight as more components are added to the payload. The old recovery parachutes were also becoming dilapidated, and therefore needed replacing. But, since they were made in-house by a retired member, a new source needed to be found. New rings must be designed and manufactured as well, since the diameter of the new system is larger. This provides an opportunity to improve on the old method too."
   ]
  },
  {
   "cell_type": "markdown",
   "metadata": {
    "collapsed": true
   },
   "source": [
    "## Design\n",
    "\n",
    "The new recovery design remains a two-stage system, incorporating a new five foot drogue and 18 foot main parachute. The most difficult challenge during the design was fitting all components into the nosecone of the rocket, rather than the body. Housing the recovery system in the nosecone has always been a goal for PSAS, since it leaves more room in the body of the rocket for other equipment.\n",
    "\n",
    "A rough sketch of the overall design is shown below in Figures 2 and 3. \n",
    "\n",
    "![Figure 2](files/Sketch_%20Top-Level_Design.JPG)\n",
    "![Figure 3](files/overall_sketch.jpg)\n",
    "\n",
    "Where the order of operations are as follows:\n",
    "\n",
    "<ol>\n",
    "    <li> eNSR (electronic nosecone separation ring) activates\n",
    "    <li> Surgical tubing retracts\n",
    "    <li> Nosecone pulls the bag off of drogue 'chute\n",
    "    <li> Line-cutters fire, releasing drogue 'chute\n",
    "    <li> Drogue parachute pulls the bag off of the main 'chute\n",
    "    <li> Accelerations tends to zero\n",
    "    <li> Landing\n",
    "</ol>\n",
    "\n",
    "</break>\n",
    "\n",
    "### 1. eNSR activation\n",
    "\n",
    "The electronic nosecone separation ring (eNSR) is designed to not only release the nosecone from the rocket, but also to give it a slight push to encourage the nosecone to separate from the rocket. This system uses a wavy spring as a pose to the traditional strategy of gunpowder to provide the push force. Although this system guarantees that the nosecone will separate from the body, by having the recovery system stored within the nosecone, the force supplied is not sufficient enough to clear the recovery system. Therefore, surgical tubing has been applied to assist as a tension spring.\n",
    "\n",
    "</break>\n",
    "\n",
    "### 2. Surgical tubing retracts\n",
    "\n",
    "This step almost works concurrently with the eNSR, and its sole purpose is to project the nosecone off of the recovery system. twenty-four tubes (UPDATE) are used at a length of approximately (FILL IN).\n",
    "\n",
    "### 3. Nosecone pulls the drogue 'chute bag off\n",
    "\n",
    "The line of the bag that encases the drogue parachute is attached to the nosecone, while the drogue parachute is initially still attached to the body of the rocket. Thus, when the nosecone lifts away from the rocket the bag is pulled off, releasing the drogue.\n",
    "\n",
    "### 4. Line-cutters fire\n",
    "\n",
    "When the body of the rocket is approximately 1000 feet from the ground, the line cutters fire to release the drogue parachute. There are three line cutters used for redundancy. The line cutters have been manufactured in house, using e-matches as an ignition force. The line cutters cut the line that attaches the drogue to the body of the rocket. At this point, the drogue, drogue bag, and nosecone are separated from the body of the rocket floating down on their own. \n",
    "\n",
    "The drogue line is also attached to the main parachute bag; therefore, when the drogue separates from the rocket body it also pulls the main bag off of the main parachute. This allows the main parachute to release and bring the rocket body safetly to the ground.\n",
    "\n",
    "### 5. Accelerations tends to zero\n",
    "\n",
    "When the main parachute is released, the rocket body's speed will reduce from approximately "
   ]
  },
  {
   "cell_type": "markdown",
   "metadata": {
    "collapsed": true
   },
   "source": [
    "# [WORK IN PROGRESS]"
   ]
  }
 ],
 "metadata": {
  "kernelspec": {
   "display_name": "Python 3",
   "language": "python",
   "name": "python3"
  },
  "language_info": {
   "codemirror_mode": {
    "name": "ipython",
    "version": 3
   },
   "file_extension": ".py",
   "mimetype": "text/x-python",
   "name": "python",
   "nbconvert_exporter": "python",
   "pygments_lexer": "ipython3",
   "version": "3.6.1"
  }
 },
 "nbformat": 4,
 "nbformat_minor": 1
}
