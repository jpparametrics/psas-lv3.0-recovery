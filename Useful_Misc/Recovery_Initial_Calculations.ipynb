{
 "cells": [
  {
   "cell_type": "markdown",
   "metadata": {},
   "source": [
    "# Questions/Concerns\n",
    "=======================================\n",
    "\n",
    "* Was/how was the main parachute bag held down for LV2?\n",
    "* How many lines were cut during LV2 recovery?\n",
    "    * What if the drogue gets cut away but the main does not deploy..then what?\n",
    "* Need property to do flight testing over\n",
    "    * Possible resources: Glenn, Asa, Jorden\n",
    "* \n",
    "\n",
    "# Next steps (as of 8/23)\n",
    "\n",
    "* Finalize surgical tubing ring\n",
    "* Design attachment ring\n",
    "* Email \"The Rocketman\" to see when parachutes will arrive\n",
    "* Get in contact with Tim to talk about LV2"
   ]
  },
  {
   "cell_type": "markdown",
   "metadata": {},
   "source": [
    "# LV2 Recovery System \n",
    "=======================================\n",
    "\n",
    "## Given information\n",
    "\n",
    "#### Drogue parachute\n",
    "\n",
    "*Hand measured*\n",
    "\n",
    "* Diameter (length of cross) = 54\"\n",
    "\n",
    "* Width = 17\"\n",
    "\n",
    "* Longest line length = 56\"\n",
    "\n",
    "#### Main parachute\n",
    "\n",
    "*Reference Main.dxf*\n",
    "\n",
    "* X-form shape\n",
    "\n",
    "* Dimensions, total outer: 216.54\" x 218.54\"\n",
    "\n",
    "* Dimensions, inner cross: 64.01\"\n",
    "\n",
    "* Corner line length, skirt to confluence: 205\"\n",
    "\n",
    "* Center lines lengthen 3%\n",
    "\n",
    "*Hand measured*\n",
    "\n",
    "* Diameter = 212\"\n",
    "\n",
    "* Width = 55\"\n",
    "\n",
    "* Longest line length = 198\""
   ]
  },
  {
   "cell_type": "markdown",
   "metadata": {},
   "source": [
    "#### Assumptions$^{[1]}$:\n",
    "\n",
    "    1. Linear motion\n",
    "    2. The deployment system is inelastic\n",
    "    3. The partially unfurled parachute is in tension during deployment\n",
    "    4. The deployment rate is much less than the vehicle velocity\n",
    "    \n",
    "* The parachute depends on two main factors$^{[2]}$:\n",
    "\n",
    "    1. The weight of the payload and parachute\n",
    "    2. The speed upon impact when returning\n"
   ]
  },
  {
   "cell_type": "code",
   "execution_count": 6,
   "metadata": {
    "collapsed": false
   },
   "outputs": [],
   "source": [
    "# General\n",
    "########################################\n",
    "\n",
    "# Gravity (m/sec^2)\n",
    "g = 9.81\n",
    "\n",
    "# Air density (kg/m^3)\n",
    "p = 1.225"
   ]
  },
  {
   "cell_type": "code",
   "execution_count": 7,
   "metadata": {
    "collapsed": false
   },
   "outputs": [
    {
     "name": "stdout",
     "output_type": "stream",
     "text": [
      "LV2 Given Information\n",
      "\n",
      "weight\n",
      "w_tot2 (N) 343.17 \n",
      "\n",
      "diameter\n",
      "d2 (m) 5.38\n",
      "area\n",
      "A2 (m^2) 13.10\n"
     ]
    }
   ],
   "source": [
    "# LV2 given information\n",
    "#######################################\n",
    "\n",
    "print (\"LV2 Given Information\\n\")\n",
    "\n",
    "# Mass of parachute (kg)\n",
    "# From OpenRocket LV2.3.ork\n",
    "m_p2 = 2.118\n",
    "\n",
    "# Mass of system (rocket + chute) (kg)\n",
    "# From OpenRocket LV2.3.ork\n",
    "m_tot2 = 34.982\n",
    "\n",
    "# Weight of system (N)\n",
    "w_tot2 = m_tot2 * g\n",
    "print (\"weight\")\n",
    "print (\"w_tot2 (N) %3.2f \\n\" % w_tot2)\n",
    "\n",
    "# Main parachute dimensions, x-shape\n",
    "# Diameter, d2 = length of one cross strip (m)\n",
    "# Width of cross strip, w2 (m)\n",
    "# Almost the same w/d ratio as AIAA source [4] (0.263 compared to 0.260)\n",
    "# Line length, l2 (m)\n",
    "d2 = 5.38\n",
    "w2 = 1.40\n",
    "l2 = 5.03\n",
    "\n",
    "# Area of parachute from LV2 system\n",
    "A2 = ((d2*w2)*2)-(w2**2)\n",
    "print (\"diameter\")\n",
    "print (\"d2 (m) %3.2f\" %d2)\n",
    "print (\"area\")\n",
    "print (\"A2 (m^2) %3.2f\" % A2)"
   ]
  },
  {
   "cell_type": "markdown",
   "metadata": {},
   "source": [
    "## LV2 recovery system analysis"
   ]
  },
  {
   "cell_type": "code",
   "execution_count": 8,
   "metadata": {
    "collapsed": false
   },
   "outputs": [
    {
     "data": {
      "image/png": "[encoded data removed]",
      "text/plain": [
       "<matplotlib.figure.Figure at 0x8859e70>"
      ]
     },
     "metadata": {},
     "output_type": "display_data"
    }
   ],
   "source": [
    "# Analyzing LV2 Telemetry and IMU data\n",
    "# From git, Launch 12\n",
    "#######################################\n",
    "\n",
    "import numpy as np\n",
    "import matplotlib.pyplot as plt\n",
    "import pandas as pd\n",
    "from scipy.integrate import simps\n",
    "%matplotlib inline\n",
    "\n",
    "# Graphing helper function\n",
    "def setup_graph(title='',x_label='', y_label='', fig_size=None):\n",
    "    fig = plt.figure()\n",
    "    if fig_size != None:\n",
    "        fig.set_size_inches(fig_size[0],\n",
    "                            fig_size[1])\n",
    "    ax = fig.add_subplot(111)\n",
    "    ax.set_title(title)\n",
    "    ax.set_xlabel(x_label)\n",
    "    ax.set_ylabel(y_label)\n",
    "\n",
    "########################################\n",
    "\n",
    "# Data from the IMU\n",
    "data = pd.read_csv('IMU_data.csv')\n",
    "\n",
    "time = data[' [1]Timestamp'].tolist()\n",
    "time = np.array(time)\n",
    "\n",
    "# Umblicial disconnect event\n",
    "t_0 = 117853569585227\n",
    "\n",
    "# Element wise subtraction\n",
    "time = np.subtract(time, t_0)\n",
    "\n",
    "# Convert from ns to s\n",
    "time = np.divide(time, 1e9)\n",
    "\n",
    "acceleration = data[' [6]Acc_X'].tolist()\n",
    "acceleration = np.array(acceleration)\n",
    "acceleration = np.subtract(acceleration,g)\n",
    "\n",
    "########################################\n",
    "\n",
    "# Data from the Telemetrum\n",
    "data_tel = pd.read_csv('Telemetry_data.csv')\n",
    "\n",
    "time_tel = data_tel['time'].tolist()\n",
    "time_tel = np.array(time_tel)\n",
    "\n",
    "acceleration_tel = data_tel['acceleration'].tolist()\n",
    "acceleration_tel = np.array(acceleration_tel)\n",
    "\n",
    "setup_graph('Accel vs. Time', 'Time (s)', 'Accel (m/s^2)', (16,7))\n",
    "plt.plot(time,acceleration,'b-')\n",
    "plt.plot(time_tel, acceleration_tel,'r-')\n",
    "plt.legend(['IMU','Telemetry'])\n",
    "plt.show()"
   ]
  },
  {
   "cell_type": "code",
   "execution_count": 9,
   "metadata": {
    "collapsed": false
   },
   "outputs": [
    {
     "data": {
      "image/png": "[encoded data removed]",
      "text/plain": [
       "<matplotlib.figure.Figure at 0x134653d0>"
      ]
     },
     "metadata": {},
     "output_type": "display_data"
    }
   ],
   "source": [
    "# Drogue analysis\n",
    "# Plot of only the duration of impulse\n",
    "\n",
    "setup_graph('Accel vs. Time of Drogue Impact', 'Time (s)', 'Accel (m/s^2)', (10,7))\n",
    "plt.plot(time[len(time)-8700:35500], acceleration[len(acceleration)-8700:35500],'b-')\n",
    "plt.plot(time_tel[len(time_tel)-9808:3377], acceleration_tel[len(acceleration_tel)-9808:3377],'r-')\n",
    "plt.legend(['IMU','Telemetry'])\n",
    "plt.show()"
   ]
  },
  {
   "cell_type": "markdown",
   "metadata": {},
   "source": [
    "## suggestions\n",
    "\n",
    "Your $dt$ value is a bit off. Also, $dt$ changes, especially when the drogue is deploying.\n",
    "\n",
    "The other thing that I'd be careful about is your assumption that the deployment force is just the $\\Delta v$ for deployment divided by the time. That would mean the force is as spread out as possible, which isn't true. \n",
    "\n",
    "Also, I think it's a reasonable guess that the IMU was zeroed on the launch pad. This means that \n",
    "1. The acceleration data isn't *quite* representative of the load on the parachute/rocket.\n",
    "1. We can get a calibration factor for the IMU data.\n",
    "\n",
    "At apogee, right before the drogue deploys, the rocket is basically in freefall. Aka, any accelerometer \"should\" read $0$. So, whatever the IMU reads at apogee is equal to $1 g$. We can then subtract out that value and scale the data so that we get $9.81$ on the launch pad. "
   ]
  },
  {
   "cell_type": "code",
   "execution_count": 10,
   "metadata": {
    "collapsed": false
   },
   "outputs": [
    {
     "ename": "NameError",
     "evalue": "name 'diffs' is not defined",
     "output_type": "error",
     "traceback": [
      "\u001b[0;31m---------------------------------------------------------------------------\u001b[0m",
      "\u001b[0;31mNameError\u001b[0m                                 Traceback (most recent call last)",
      "\u001b[0;32m<ipython-input-10-07e2d6600759>\u001b[0m in \u001b[0;36m<module>\u001b[0;34m()\u001b[0m\n\u001b[1;32m      4\u001b[0m \u001b[0;31m#plt.plot(time[1:], diffs)\u001b[0m\u001b[0;34m\u001b[0m\u001b[0;34m\u001b[0m\u001b[0m\n\u001b[1;32m      5\u001b[0m \u001b[0;31m#plt.title('values of dt')\u001b[0m\u001b[0;34m\u001b[0m\u001b[0;34m\u001b[0m\u001b[0m\n\u001b[0;32m----> 6\u001b[0;31m \u001b[0;32mprint\u001b[0m\u001b[0;34m(\u001b[0m\u001b[0;34m'mean dt value:'\u001b[0m\u001b[0;34m,\u001b[0m \u001b[0mnp\u001b[0m\u001b[0;34m.\u001b[0m\u001b[0mmean\u001b[0m\u001b[0;34m(\u001b[0m\u001b[0mdiffs\u001b[0m\u001b[0;34m)\u001b[0m\u001b[0;34m)\u001b[0m\u001b[0;34m\u001b[0m\u001b[0m\n\u001b[0m\u001b[1;32m      7\u001b[0m \u001b[0;34m\u001b[0m\u001b[0m\n\u001b[1;32m      8\u001b[0m \u001b[0;31m# marginally nicer way to keep track of time windows:\u001b[0m\u001b[0;34m\u001b[0m\u001b[0;34m\u001b[0m\u001b[0m\n",
      "\u001b[0;31mNameError\u001b[0m: name 'diffs' is not defined"
     ]
    }
   ],
   "source": [
    "# how to get the values for dt:\n",
    "#diffs= [t2-t1 for t1,t2 in zip(time[:-1], time[1:])]\n",
    "#plt.figure()\n",
    "#plt.plot(time[1:], diffs)\n",
    "#plt.title('values of dt')\n",
    "print('mean dt value:', np.mean(diffs))\n",
    "\n",
    "# marginally nicer way to keep track of time windows:\n",
    "ind_drogue= [i for i in range(len(time)) if ((time[i]>34.5) & (time[i]<39))]\n",
    "\n",
    "# indices where we're basically in freefall:\n",
    "ind_vomit= [i for i in range(len(time)) if ((time[i]>32) & (time[i]<34.5))]\n",
    "offset_g= np.mean(acceleration[ind_vomit])\n",
    "accel_nice = (acceleration-offset_g)*(-9.81/offset_g)\n",
    "deltaV= sum([accel_nice[i]*diffs[i] for i in ind_drogue])\n",
    "print('change in velocity (area under the curve):', deltaV)\n",
    "\n",
    "plt.figure()\n",
    "plt.plot(time[:2500], acceleration[:2500])\n",
    "plt.title('launch pad acceleration')\n",
    "print('\"pretty much zeroed\" value on the launch pad:', np.mean(acceleration[:2500]))"
   ]
  },
  {
   "cell_type": "code",
   "execution_count": 11,
   "metadata": {
    "collapsed": false
   },
   "outputs": [
    {
     "data": {
      "image/png": "[encoded data removed]",
      "text/plain": [
       "<matplotlib.figure.Figure at 0x13864b10>"
      ]
     },
     "metadata": {},
     "output_type": "display_data"
    },
    {
     "name": "stdout",
     "output_type": "stream",
     "text": [
      "Estimating max possible impulse during LV2 \n",
      "\n",
      "Area under entire filtered curve (m/s) 849.32\n",
      "Area under accel curve during drogue impact (m/s) 45.80\n",
      "Impulse (N*s) 1602.11\n",
      "Force (N) 457.74\n"
     ]
    }
   ],
   "source": [
    "# Filtering out noise from IMU and Telemetry data w/ scipy\n",
    "# Using these graphs to estimate max possible impulse felt during LV2\n",
    "\n",
    "# From IMU\n",
    "from scipy.signal import savgol_filter\n",
    "accel_filtered = savgol_filter(acceleration, 201, 2)\n",
    "\n",
    "# From telemetry\n",
    "# ***Assuming the filter parameters will work for the telemetry data too***\n",
    "accel_filtered_tel = savgol_filter(acceleration_tel, 201, 2)\n",
    "\n",
    "# Plot of filtered IMU and telemetry for comparison\n",
    "setup_graph('Accel vs. Time (filtered)', 'Time (s)', 'Accel_filtered (m/s^2)', (16,7))\n",
    "plt.plot(time[1:], accel_filtered[1:],'b-')\n",
    "plt.plot(time_tel[1:], accel_filtered_tel[1:],'r-')\n",
    "plt.legend(['IMU','Telemetry'])\n",
    "plt.show()\n",
    "# Looks pretty darn close\n",
    "# Wanted the filtered telemetry instead of IMU because IMU does not include landing and we need terminal velocity\n",
    "\n",
    "print (\"Estimating max possible impulse during LV2 \\n\")\n",
    "\n",
    "# Estimate Area Under Curve\n",
    "areaCurve = simps(abs(accel_filtered), dx=0.00125)\n",
    "print (\"Area under entire filtered curve (m/s) %3.2f\" %areaCurve)\n",
    "\n",
    "# Calculating area under drogue acceleration curve to find impulse\n",
    "areaCurvesmall = simps(abs(accel_filtered[len(accel_filtered)-8700:35500]), dx=0.00125)\n",
    "print (\"Area under accel curve during drogue impact (m/s) %3.2f\" %areaCurvesmall)\n",
    "\n",
    "# Impulse = mass * integral(accel dt)\n",
    "impulse = m_tot2 * areaCurvesmall\n",
    "print (\"Impulse (N*s) %3.2f\" %impulse)\n",
    "\n",
    "# If deploy time = approx. 3.5 sec\n",
    "deploy_time = 3.5\n",
    "force = impulse/deploy_time # not a conservative assumption\n",
    "print (\"Force (N) %3.2f\" %force)"
   ]
  },
  {
   "cell_type": "code",
   "execution_count": 12,
   "metadata": {
    "collapsed": false
   },
   "outputs": [
    {
     "name": "stdout",
     "output_type": "stream",
     "text": [
      "Terminal speed 6.02\n"
     ]
    }
   ],
   "source": [
    "# Finding terminal velocity with height and time\n",
    "# Assuming average velocity is equivalent to terminal velocity \n",
    "##because so much of the time after the main is deployed is at terminal velocity\n",
    "\n",
    "# Using telemetry data\n",
    "# Main 'chute deployment height (m)\n",
    "main_deploy_height = 251.6\n",
    "# Main 'chute deployment time (s)\n",
    "main_deploy_time = 686.74\n",
    "# Final height (m)\n",
    "final_height = 0\n",
    "# Final time\n",
    "final_time = 728.51\n",
    "\n",
    "# Average (terminal) velocity (m/s)\n",
    "terminal_speed = abs((main_deploy_height - final_height)/(main_deploy_time - final_time))\n",
    "print (\"Terminal speed %3.2f\" % terminal_speed)\n",
    "# This seems accurate, 6 m/s is approx. 20 ft/s which is ideal"
   ]
  },
  {
   "cell_type": "code",
   "execution_count": 13,
   "metadata": {
    "collapsed": false
   },
   "outputs": [
    {
     "name": "stdout",
     "output_type": "stream",
     "text": [
      "D2 (N) 343.17\n",
      "Cd2 1.18\n",
      "Cd_or 0.59\n",
      "D_or (N) 171.81\n"
     ]
    }
   ],
   "source": [
    "# LV2 drag calculations\n",
    "#######################################\n",
    "\n",
    "# If we say at terminal velocity, accel = 0, \n",
    "# Therefore drag force (D2) = weight of system (w_tot2) (N)\n",
    "# Because sum(forces) = ma = 0, then\n",
    "D2 = w_tot2\n",
    "print (\"D2 (N) %3.2f\" % D2)\n",
    "\n",
    "# Calculated drag coefficient (Cd2), using D2\n",
    "Cd2 = (2*D2)/(p*A2*(terminal_speed**2))\n",
    "print (\"Cd2 %3.2f\" % Cd2)\n",
    "\n",
    "# Drag coefficient (Cd_or), from OpenRocket LV2.3\n",
    "# Compare to AIAA source [4], 0.60\n",
    "# Compare to calculated from LV2 data, Cd2\n",
    "Cd_or = 0.59\n",
    "print (\"Cd_or %3.2f\" % Cd_or)\n",
    "\n",
    "# Calculated drag (D_or) (N), from OpenRocket LV2.3\n",
    "D_or = (Cd_or*p*A2*(terminal_speed**2))/2\n",
    "print (\"D_or (N) %3.2f\" % D_or)"
   ]
  },
  {
   "cell_type": "markdown",
   "metadata": {},
   "source": [
    "# LV3 Recovery System\n",
    "=======================================\n",
    "\n",
    "## Overview\n",
    "\n",
    "### Deployment design\n",
    "\n",
    "<img src='Sketch_ Deployment_Design.jpg' width=\"450\">\n",
    "\n",
    "### Top-level design\n",
    "\n",
    "<img src='Sketch_ Top-Level_Design.jpg' width=\"450\">\n",
    "<img src='initial_idea_given_info.jpg' width=\"450\">\n",
    "\n",
    "### Step-by-step\n",
    "\n",
    "<img src='step_by_step.jpg' width=\"450\">"
   ]
  },
  {
   "cell_type": "markdown",
   "metadata": {},
   "source": [
    "## Deciding on a parachute\n",
    "\n",
    "### Estimating necessary area"
   ]
  },
  {
   "cell_type": "code",
   "execution_count": 14,
   "metadata": {
    "collapsed": false
   },
   "outputs": [
    {
     "name": "stdout",
     "output_type": "stream",
     "text": [
      "271.41327\n",
      "Previous parachute area 13.10\n"
     ]
    },
    {
     "data": {
      "text/plain": [
       "'\\n# Area needed using LV2 calculations (m^2)\\nA3_2 = (D3*2)/(Cd2*p*(v_f3**2))\\nprint (\"Area using Cd2 %3.2f\" %A3_2)\\n\\n# Area needed using LV2 OpenRocket (m^2)\\nA3_or2 = (D3*2)/(Cd_or*p*(v_f3**2))\\nprint (\"Area using Cd_or %3.2f\" %A3_or2)\\n\\n# Area needed using aiaa info (m^2)\\nA3_aiaa = (D3*2)/(Cd_aiaa*p*(v_f3**2))\\nprint (\"Area using Cd_aiaa %3.2f\" %A3_aiaa)\\n\\n# Area needed using LV3 OpenRocket\\nA3_or3 = (D3*2)/(Cd_or3*p*(v_f3**2))\\nprint (\"Area using Cd_or3 %3.2f\" %A3_or3)\\n\\n# Area estimater\\nA3 = (D3*2)/(1.5*p*(v_f3**2))\\nprint (\"Area estimate %3.2f\" %A3)\\n\\nimport math\\nd_m = (math.sqrt(A3_or3/math.pi))*2\\nd_ft = d_m * 0.3048\\nprint d_ft\\n'"
      ]
     },
     "execution_count": 14,
     "metadata": {},
     "output_type": "execute_result"
    }
   ],
   "source": [
    "## **Need to decide on FOS for the weight and then use estimator to calculate necessary area** ##\n",
    "# Calculating area needed for LV3 parachutes\n",
    "# Both drogue and main\n",
    "\n",
    "# From OpenRocket file LV3_L13a_ideal.ork\n",
    "# Total mass (kg), really rough estimate\n",
    "m_tot3 = 27.667\n",
    "# Total weight (N)\n",
    "w_tot3 = m_tot3 * g\n",
    "print w_tot3\n",
    "# Assuming drag is equivalent to weight of rocket system\n",
    "D3 = w_tot3\n",
    "\n",
    "# v_f3 (m/s), ideal terminal(impact) velocity\n",
    "v_f3 = 6\n",
    "\n",
    "# Cd from AIAA example (source 4)\n",
    "Cd_aiaa = 0.60\n",
    "\n",
    "# Cd from OpenRocket LV3\n",
    "Cd_or3 = 0.38\n",
    "\n",
    "# Printing previous parachute area for reference\n",
    "print (\"Previous parachute area %3.2f\" %A2)\n",
    "\n",
    "# Need to work on this...\n",
    "\"\"\"\n",
    "# Area needed using LV2 calculations (m^2)\n",
    "A3_2 = (D3*2)/(Cd2*p*(v_f3**2))\n",
    "print (\"Area using Cd2 %3.2f\" %A3_2)\n",
    "\n",
    "# Area needed using LV2 OpenRocket (m^2)\n",
    "A3_or2 = (D3*2)/(Cd_or*p*(v_f3**2))\n",
    "print (\"Area using Cd_or %3.2f\" %A3_or2)\n",
    "\n",
    "# Area needed using aiaa info (m^2)\n",
    "A3_aiaa = (D3*2)/(Cd_aiaa*p*(v_f3**2))\n",
    "print (\"Area using Cd_aiaa %3.2f\" %A3_aiaa)\n",
    "\n",
    "# Area needed using LV3 OpenRocket\n",
    "A3_or3 = (D3*2)/(Cd_or3*p*(v_f3**2))\n",
    "print (\"Area using Cd_or3 %3.2f\" %A3_or3)\n",
    "\n",
    "# Area estimater\n",
    "A3 = (D3*2)/(1.5*p*(v_f3**2))\n",
    "print (\"Area estimate %3.2f\" %A3)\n",
    "\n",
    "import math\n",
    "d_m = (math.sqrt(A3_or3/math.pi))*2\n",
    "d_ft = d_m * 0.3048\n",
    "print d_ft\n",
    "\"\"\""
   ]
  },
  {
   "cell_type": "markdown",
   "metadata": {},
   "source": [
    "### Sources for buying parachutes:\n",
    "\n",
    "* [The Rocket Man](http://www.the-rocketman.com/chutes.html#standard)\n",
    "    * Standard Low-Porosity 1.1 Ripstop\n",
    "        * 16-18 ft based on provided chart (for 65 lbs)\n",
    "        * $170.00 - $190.00\n",
    "        \n",
    "    * Pro-Experimental 1.9 Low-Porosity Ripstop\n",
    "        * 14 ft\n",
    "        * $225.00\n",
    "        \n",
    "    * Also sells drogue chutes\n",
    "\n",
    "* [Fruity Chutes](https://fruitychutes.com/buyachute/contact_us.html)\n",
    "    * Iris Ultra 120\" Standard Parachute\n",
    "        * 79 lbs @ 20 fps\n",
    "        * $402.00\n",
    "        \n",
    "    * 120\" Custom Parachute\n",
    "        * 50 lbs @ 20 fps\n",
    "        * Hemispherical\n",
    "        * $355.00\n",
    "\n",
    "* [Top Flight Recovery](http://topflightrecoveryllc.homestead.com/page1.html)\n",
    "    * \"Cutcom sizes of all of TFR parachutes available upon request\"\n",
    "    * Standard chute\n",
    "        * PAR-120\n",
    "        * 120\"\n",
    "        * 94.95\n",
    "        * 16 shroud lines\n",
    "    * Crossfire HD 6 Panel Chute (CF-120)\n",
    "        * 120\"\n",
    "        * $169.95\n",
    "\n",
    "        * says max load is 45 lbs?\n",
    "        * 144\", 65 lb max, $199.95\n",
    "\n",
    "* [Rockets-r-us (Top Flight Recovery)](http://www.rocketsrus.com/top-flight-recovery.html)\n",
    "    * Crossfire HD 6 Panel Chute (CF-120)\n",
    "        * 120\"\n",
    "        * $152.96\n",
    "        \n",
    "    * Standard Chute\n",
    "        * PAR-120\n",
    "        * 120\"\n",
    "        * 16 shroud lines\n",
    "        * $71.96\n",
    "\n",
    "* [Performance Hobbies](http://performancehobbies.com/secure/store.aspx?groupid=39#_CrossfireHD6PanelChutes)\n",
    "    * \"Top Flight Recovery Products\"\n",
    "    * Crossfire HD 6 Panel Chute (CF-120)\n",
    "        * 120\"\n",
    "        * $169.95\n",
    "\n",
    "* [Proline Rocketry](http://prolinerocketry.com/store/index.php?cPath=6_12)\n",
    "    * SkyAngle Cert 3 XXLarge\n",
    "        * $239.00\n",
    "        * 60.0 - 129.8 lbs\n",
    "        * 129 sqft surface area\n",
    "        * 120\" line length\n",
    "        \n",
    "Ultimately, we decided to go with a main parachute, drogue parachute, and the corresponding bags from The Rocketman. We chose an 18' Standard main and a 5' drogue. The parachutes were bought on the bigger end of the spectrum because, as of Launch 13, this is the lightest that this version of the rocket be. It was convenient that we could buy everything from the same site, and the price was resonable compared to the other sites found. Reviews found on blogs were also favorable of The Rocketman."
   ]
  },
  {
   "cell_type": "markdown",
   "metadata": {},
   "source": [
    "### Volume of available space in nosecone\n",
    "\n",
    "<img src='PSAS_nosecone_volume_conservative.jpg'>"
   ]
  },
  {
   "cell_type": "markdown",
   "metadata": {},
   "source": [
    "## Attachment plate\n",
    "\n",
    "### Initial attachment plate design\n",
    "\n",
    "<img src='attachment_plate_design.jpg' width=\"450\">"
   ]
  },
  {
   "cell_type": "markdown",
   "metadata": {},
   "source": [
    "## Works Cited\n",
    "\n",
    "[1] NASA TN D-5619\n",
    "\n",
    "[2] http://www.pcprg.com/rocketre.htm\n",
    "\n",
    "[3] http://www.dtic.mil/dtic/tr/fulltext/u2/731023.pdf\n",
    "\n",
    "[4] AIAA-99-1711"
   ]
  },
  {
   "cell_type": "code",
   "execution_count": null,
   "metadata": {
    "collapsed": true
   },
   "outputs": [],
   "source": []
  }
 ],
 "metadata": {
  "kernelspec": {
   "display_name": "Python 2",
   "language": "python",
   "name": "python2"
  },
  "language_info": {
   "codemirror_mode": {
    "name": "ipython",
    "version": 2
   },
   "file_extension": ".py",
   "mimetype": "text/x-python",
   "name": "python",
   "nbconvert_exporter": "python",
   "pygments_lexer": "ipython2",
   "version": "2.7.11"
  }
 },
 "nbformat": 4,
 "nbformat_minor": 0
}
