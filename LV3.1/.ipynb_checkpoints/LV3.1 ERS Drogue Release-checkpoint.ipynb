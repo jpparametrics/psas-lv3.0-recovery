{
 "cells": [
  {
   "cell_type": "markdown",
   "metadata": {},
   "source": [
    "# Launch Vehicle 3 (LV3) Electromechanical Recovery System (ERS) Drogue Release Documentation\n",
    "\n",
    "### Work in Progress"
   ]
  },
  {
   "cell_type": "code",
   "execution_count": 2,
   "metadata": {},
   "outputs": [
    {
     "ename": "ModuleNotFoundError",
     "evalue": "No module named 'numpy'",
     "output_type": "error",
     "traceback": [
      "\u001b[1;31m---------------------------------------------------------------------------\u001b[0m",
      "\u001b[1;31mModuleNotFoundError\u001b[0m                       Traceback (most recent call last)",
      "\u001b[1;32m<ipython-input-2-490b77f2444b>\u001b[0m in \u001b[0;36m<module>\u001b[1;34m\u001b[0m\n\u001b[0;32m      3\u001b[0m \u001b[1;31m#########################################\u001b[0m\u001b[1;33m\u001b[0m\u001b[1;33m\u001b[0m\u001b[1;33m\u001b[0m\u001b[0m\n\u001b[0;32m      4\u001b[0m \u001b[1;33m\u001b[0m\u001b[0m\n\u001b[1;32m----> 5\u001b[1;33m \u001b[1;32mimport\u001b[0m \u001b[0mnumpy\u001b[0m \u001b[1;32mas\u001b[0m \u001b[0mnp\u001b[0m\u001b[1;33m\u001b[0m\u001b[1;33m\u001b[0m\u001b[0m\n\u001b[0m\u001b[0;32m      6\u001b[0m \u001b[1;32mimport\u001b[0m \u001b[0mmatplotlib\u001b[0m\u001b[1;33m.\u001b[0m\u001b[0mpyplot\u001b[0m \u001b[1;32mas\u001b[0m \u001b[0mplt\u001b[0m\u001b[1;33m\u001b[0m\u001b[1;33m\u001b[0m\u001b[0m\n\u001b[0;32m      7\u001b[0m \u001b[1;32mimport\u001b[0m \u001b[0mpandas\u001b[0m \u001b[1;32mas\u001b[0m \u001b[0mpd\u001b[0m\u001b[1;33m\u001b[0m\u001b[1;33m\u001b[0m\u001b[0m\n",
      "\u001b[1;31mModuleNotFoundError\u001b[0m: No module named 'numpy'"
     ]
    }
   ],
   "source": [
    "# NECESSARY GARGIN\n",
    "\n",
    "#########################################\n",
    "\n",
    "import numpy as np\n",
    "import matplotlib.pyplot as plt\n",
    "import pandas as pd\n",
    "from scipy.integrate import simps\n",
    "%matplotlib inline\n",
    "\n",
    "# Graphing helper function\n",
    "def setup_graph(title='',x_label='', y_label='', fig_size=None):\n",
    "    fig = plt.figure()\n",
    "    if fig_size != None:\n",
    "        fig.set_size_inches(fig_size[0],\n",
    "                            fig_size[1])\n",
    "    ax = fig.add_subplot(111)\n",
    "    ax.set_title(title)\n",
    "    ax.set_xlabel(x_label)\n",
    "    ax.set_ylabel(y_label)"
   ]
  },
  {
   "cell_type": "code",
   "execution_count": 1,
   "metadata": {},
   "outputs": [],
   "source": [
    "# KNOWN INFORMATION\n",
    "\n",
    "## *Dimensions given in basic metric units*\n",
    "\n",
    "#########################################\n",
    "\n",
    "# Basic constants (units in m,s,N)\n",
    "\n",
    "g = 9.81\n",
    "\n",
    "#########################################\n",
    "\n",
    "# Drogue Parachute Dimensions\n",
    "\n",
    "## Diameter (m)\n",
    "diaP = 1.524\n",
    "\n",
    "## Mass (kg)\n",
    "Pm = 10.70\n",
    "\n",
    "## Drag coefficient (unitless)\n",
    "Cd = 1.85\n",
    "\n",
    "#########################################\n",
    "\n",
    "# Airframe Dimensions\n",
    "\n",
    "## Overall length (m)\n",
    "totL = 3.528\n",
    "\n",
    "## Outer diameter (m)\n",
    "OD = .168\n",
    "\n",
    "## Dry and wet mass (kg)\n",
    "Dm = 21.8\n",
    "Wm = 30.5\n",
    "\n",
    "#########################################\n",
    "\n",
    "# Expected Operations\n",
    "\n",
    "## Max thrust (N)\n",
    "thrust = 3500\n",
    "\n",
    "## Apogee (m)\n",
    "Ap = 5500\n",
    "\n",
    "## Time to apogee (s)\n",
    "tAp = 32\n",
    "\n",
    "## Max speed (m/s)\n",
    "spdmax = 425\n",
    "Machmax = 1.3\n",
    "\n",
    "## Max acceleration (m/s^2)\n",
    "accelmax = 105\n",
    "\n"
   ]
  },
  {
   "cell_type": "code",
   "execution_count": null,
   "metadata": {},
   "outputs": [],
   "source": [
    "# ASSUMPTIONS\n",
    "\n",
    "# Time until nose cone release actuation (s)\n",
    "tnc = 1\n",
    "\n",
    "# Time until drogue parachute is fully deployed (s)\n",
    "tdeploy = 3\n",
    "\n",
    "# Total free fall time after apogee (s)\n",
    "tTot = tnc + tdeploy\n",
    "\n",
    "# Time span that the impulse from parachute deployment experiences (s)\n",
    "timp = 0.5\n",
    "\n",
    "# Velocity at apogee (m/s)\n",
    "vAp = 0"
   ]
  },
  {
   "cell_type": "code",
   "execution_count": null,
   "metadata": {},
   "outputs": [],
   "source": [
    "# BASIC CALCULATIONS\n",
    "\n",
    "## *Dimensions given in basic metric units*\n",
    "\n",
    "#########################################\n",
    "\n",
    "# Weight of parachute (N)\n",
    "Pw = Pm * g\n",
    "\n",
    "# Dry and wet weight of airframe (N)\n",
    "Dw = Dm * g\n",
    "Ww = Wm * g\n",
    "\n",
    "# Velocity at full deployment (m/s)\n",
    "vdeploy = vAp + (g*tTot)\n",
    "\n",
    "# Impulse experienced at full deployment (N*s)\n",
    "Imp = Wm * vdeploy\n",
    "\n",
    "# Force generated from the impulse (N)\n",
    "F = Imp / timp"
   ]
  },
  {
   "cell_type": "code",
   "execution_count": null,
   "metadata": {},
   "outputs": [],
   "source": [
    "# DESIGN PARAMETERS\n",
    "\n",
    "## *Dimensions given in basic metric units*\n",
    "\n",
    "#########################################"
   ]
  }
 ],
 "metadata": {
  "kernelspec": {
   "display_name": "Python 3",
   "language": "python",
   "name": "python3"
  },
  "language_info": {
   "codemirror_mode": {
    "name": "ipython",
    "version": 3
   },
   "file_extension": ".py",
   "mimetype": "text/x-python",
   "name": "python",
   "nbconvert_exporter": "python",
   "pygments_lexer": "ipython3",
   "version": "3.7.2"
  }
 },
 "nbformat": 4,
 "nbformat_minor": 2
}
