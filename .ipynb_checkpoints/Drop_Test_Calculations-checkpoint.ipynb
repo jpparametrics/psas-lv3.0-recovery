{
 "cells": [
  {
   "cell_type": "markdown",
   "metadata": {},
   "source": [
    "This notebook will encompass all calculations regarding the LV3 Recovery/eNSR Drop Test."
   ]
  },
  {
   "cell_type": "code",
   "execution_count": 66,
   "metadata": {
    "collapsed": true
   },
   "outputs": [],
   "source": [
    "import math\n",
    "from sympy import Symbol, solve\n",
    "from scipy.integrate import odeint"
   ]
  },
  {
   "cell_type": "code",
   "execution_count": 67,
   "metadata": {},
   "outputs": [
    {
     "name": "stdout",
     "output_type": "stream",
     "text": [
      "time to free fall fall 2 sec =  0.638550856814101  s\n",
      "vertical length gained =  2  m\n",
      "horizontal length gained =  24.264932558935836  m\n"
     ]
    }
   ],
   "source": [
    "# Step a - static line extending\n",
    "## Assumptions:\n",
    "## static line is approximately 2m long\n",
    "## plane is flying at approximately 85 mph = 38 m/s\n",
    "\n",
    "# Variables\n",
    "## P = speed of plane\n",
    "## va = velocity at instant the system is pushed from the plane\n",
    "## g = acceleration due to gravity\n",
    "## sl = static line length\n",
    "## Lva = vertical length gained from step a \n",
    "## Lha = horizaontal length gained from step a\n",
    "## ta = time for step a to be complete\n",
    "\n",
    "P = 38\n",
    "va = 0\n",
    "g = 9.81\n",
    "sl = 2\n",
    "\n",
    "# Calculations\n",
    "# vertical Distance Gained\n",
    "## since the static line is 2m, assuming it falls only in the vertical direction:\n",
    "Lva = 2\n",
    "\n",
    "# horizontal Distance Gained\n",
    "## speed of plane times time to drop 2m static line\n",
    "ta = math.sqrt(2*sl/g)\n",
    "Lha = P*ta\n",
    "\n",
    "print('time to free fall fall 2 sec = ', ta, ' s')\n",
    "print('vertical length gained = ', Lva, ' m')\n",
    "print('horizontal length gained = ', Lha, ' m')"
   ]
  },
  {
   "cell_type": "code",
   "execution_count": 68,
   "metadata": {},
   "outputs": [
    {
     "name": "stdout",
     "output_type": "stream",
     "text": [
      "velocity at beginning of step b =  6.26418390534633  m/s\n",
      "vertical length gained =  12.52836781069266  m\n",
      "horizontal length gained =  76  m\n"
     ]
    }
   ],
   "source": [
    "# Step b - deployment timer running\n",
    "## deployment timer is a 2 sec timer\n",
    "\n",
    "# Variables\n",
    "## P = speed of plane\n",
    "## vb = velocity after 2m static line (aka instant static line 'snaps')\n",
    "## g = acceleration due to gravity\n",
    "## Lvb = vertical length gained from step b\n",
    "## Lhb = horizontal length gained from step b\n",
    "## tb = time for step b to be complete\n",
    "\n",
    "# Calculations\n",
    "# velocity at time of 'snap'\n",
    "vb = va + (g*ta)\n",
    "\n",
    "# since the deployment is controlled by a timer:\n",
    "tb = 2\n",
    "\n",
    "# vertical length gained\n",
    "Lvb = (vb*tb) + (0.5*g*(tb^2))\n",
    "\n",
    "# horizontal length gained\n",
    "Lhb = P*tb\n",
    "\n",
    "print('velocity at beginning of step b = ', vb, ' m/s')\n",
    "print('vertical length gained = ', Lvb, ' m')\n",
    "print('horizontal length gained = ', Lhb, ' m')"
   ]
  },
  {
   "cell_type": "code",
   "execution_count": 69,
   "metadata": {},
   "outputs": [
    {
     "name": "stdout",
     "output_type": "stream",
     "text": [
      "velocity at ring separation =  25.884183905346333  m/s\n"
     ]
    }
   ],
   "source": [
    "# Step c - eNSR ring separation\n",
    "## Assumptions:\n",
    "### the body is falling straight downward from the drogue 'chute\n",
    "### drogue timer begins as ring separation occurs\n",
    "\n",
    "# Variables\n",
    "## P = speed of plane\n",
    "## vc = velocity at time of ring separation\n",
    "## g = acceleration due to gravity\n",
    "## Lvc = vertical length gained from step c\n",
    "## Lhc = horizontal length gained from step c\n",
    "## tc = time for step c to be complete\n",
    "\n",
    "# Calculations\n",
    "# velocity at time of ring separation\n",
    "vc = vb + g*tb\n",
    "\n",
    "print('velocity at ring separation = ', vc, ' m/s')"
   ]
  },
  {
   "cell_type": "code",
   "execution_count": 88,
   "metadata": {},
   "outputs": [
    {
     "name": "stdout",
     "output_type": "stream",
     "text": [
      "horizontal distance gained =  47.29556\n",
      "vertical distance gained =  47.412437416836156\n",
      "velocity at instant line becomes taught =  38.093906105346335\n"
     ]
    }
   ],
   "source": [
    "# Step d - drogue line is being pulled out\n",
    "## Assumptions\n",
    "### no drag force considered for horizon. and vert. decent until drogue is fully unfurled\n",
    "### just accounting for the 50' shock chord, therefore not including the lines coming directly from the 'chute\n",
    "\n",
    "# Variables\n",
    "## P = speed of plane\n",
    "## vd = velocity after 50' shock chord is drawn out\n",
    "## g = acceleration due to gravity\n",
    "## Lvd = vertical distance gained from step d\n",
    "## Lhd = horizontal distance gained from step d\n",
    "## td = time for step d to be complete\n",
    "\n",
    "# assuming the drogue pulls out at an angle due to a small amount of drag slowing the drogue down horizontally\n",
    "## the 50' chord as the hypotenuse\n",
    "# 50 = math.sqrt((x^2) + (y^2))\n",
    "\n",
    "# vertical length gained from step d\n",
    "# y = vc*td + g*(td^2)\n",
    "\n",
    "# horizontal length gained from step d\n",
    "# x = P*td\n",
    "\n",
    "# calculate td by replacing x and y in the above equation\n",
    "# 50 = sqrt(((P*td)^2) + ((vc*td + g*(td^2))^2))\n",
    "####### someone help me with python #######\n",
    "td = 1.24462\n",
    "\n",
    "# now go back and calculate x and y\n",
    "x = P*td\n",
    "y = vc*td + g*(td**2)\n",
    "\n",
    "print('horizontal distance gained = ', x)\n",
    "print('vertical distance gained = ', y)\n",
    "\n",
    "# vertical velocity gained after the 50' drop\n",
    "vd = vc + g*td\n",
    "\n",
    "print('velocity at instant line becomes taught = ', vd, 'm/s')"
   ]
  },
  {
   "cell_type": "code",
   "execution_count": 90,
   "metadata": {},
   "outputs": [],
   "source": [
    "# Step e - drogue is fully deployed\n",
    "## Assumptions\n",
    "### drag force in full effect\n",
    "### skipping impulse and time to steady state\n",
    "## Resources\n",
    "### http://www.usma.edu/math/Military%20Math%20Modeling/C5.pdf\n",
    "### http://www.the-rocketman.com/drogue-decent-rate.html\n",
    "\n",
    "# cd = coeff. of drag\n",
    "# D = drag force = weight of payload\n",
    "# rho = density of air\n",
    "# A = area of parachute\n",
    "# v = approx. steady state velocity of drogue\n",
    "# m = mass of payload\n",
    "\n",
    "D = 28*g\n",
    "v = 18.5 # according to rocketman\n",
    "rho = 1.2\n",
    "A = math.pi*(.762**2)\n",
    "cd = (2*D)/(rho*A*v)\n",
    "m = 28\n",
    "\n",
    "# x-direction calculations\n",
    "# from usma:\n",
    "# mx\" + cd*x' = cd*w\n",
    "####### need python help here #######\n",
    "\n",
    "## homogeneous equation mx\" + rho*x' = 0 \n",
    "##  characteristic equation for the homogeneous differential equation is:\n",
    "## mr^2 + rho*r = 0 \n",
    "## where the roots are: \n",
    "r1 = 0, r2 = -(rho/m)\n",
    "## complementary solution:\n",
    "## xc = C1*e^0 + C2* e^(-(rho*t/m))\n",
    "\n",
    "## non-homogeneous equation mx\" + rho*x' = rho*w\n",
    "## complete solution x = C1 + C2*e^(-(roh*t/m)) + wt\n",
    "\n",
    "## solving for C1 and C2 using results from step d as initial conditions\n",
    "## except time = 0 since we are making calculations just for this step\n",
    "## i.e. x(0) = \n"
   ]
  },
  {
   "cell_type": "code",
   "execution_count": null,
   "metadata": {
    "collapsed": true
   },
   "outputs": [],
   "source": []
  },
  {
   "cell_type": "code",
   "execution_count": null,
   "metadata": {
    "collapsed": true
   },
   "outputs": [],
   "source": []
  }
 ],
 "metadata": {
  "kernelspec": {
   "display_name": "Python 3",
   "language": "python",
   "name": "python3"
  },
  "language_info": {
   "codemirror_mode": {
    "name": "ipython",
    "version": 3
   },
   "file_extension": ".py",
   "mimetype": "text/x-python",
   "name": "python",
   "nbconvert_exporter": "python",
   "pygments_lexer": "ipython3",
   "version": "3.6.1"
  }
 },
 "nbformat": 4,
 "nbformat_minor": 2
}
