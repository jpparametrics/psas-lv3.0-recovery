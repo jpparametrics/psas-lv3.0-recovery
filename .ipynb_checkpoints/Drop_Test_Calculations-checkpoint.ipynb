{
 "cells": [
  {
   "cell_type": "markdown",
   "metadata": {},
   "source": [
    "This notebook will encompass all calculations regarding the LV3 Recovery/eNSR Drop Test."
   ]
  },
  {
   "cell_type": "code",
   "execution_count": 282,
   "metadata": {
    "scrolled": true
   },
   "outputs": [],
   "source": [
    "import math\n",
    "import sympy\n",
    "from sympy import Symbol, solve\n",
    "from scipy.integrate import odeint\n",
    "sympy.init_printing()\n",
    "%matplotlib inline"
   ]
  },
  {
   "cell_type": "code",
   "execution_count": 293,
   "metadata": {
    "collapsed": true
   },
   "outputs": [],
   "source": [
    "# General variables\n",
    "\n",
    "# mass of payload [kg]\n",
    "m = 28\n",
    "# g = acceleration due to gravity [kg*m/s^2]\n",
    "g = 9.81\n",
    "# P = speed of plane [m/s]\n",
    "P = 38\n",
    "\n",
    "# Resources\n",
    "\n",
    "## http://www.usma.edu/math/Military%20Math%20Modeling/C5.pdf\n",
    "## http://www.the-rocketman.com/drogue-decent-rate.html"
   ]
  },
  {
   "cell_type": "code",
   "execution_count": 284,
   "metadata": {
    "scrolled": true
   },
   "outputs": [
    {
     "name": "stdout",
     "output_type": "stream",
     "text": [
      "step a (from drop to static line disconnect):\n",
      "time to free fall fall 2 m =  0.6386  s\n",
      "vertical length gained =  2  m\n",
      "horizontal length gained =  24.2649  m\n"
     ]
    }
   ],
   "source": [
    "# Step a - static line extending\n",
    "\n",
    "# Assumptions:\n",
    "## no drag\n",
    "## static line is approximately 2m long\n",
    "## plane is flying at approximately 85 mph = 38 m/s\n",
    "\n",
    "# Variables\n",
    "## va = vertical velocity at instant the system is pushed from the plane [m/s]\n",
    "## sl = static line length [m]\n",
    "## Lva = vertical length gained from step a [m]\n",
    "## Lha = horizontal length gained from step a [m]\n",
    "## ta = time for step a to be complete [s]\n",
    "\n",
    "va = 0\n",
    "sl = 2\n",
    "\n",
    "# Calculations\n",
    "## vertical distance gained\n",
    "## since the static line is 2m, assuming it falls only in the vertical direction:\n",
    "Lva = 2\n",
    "\n",
    "# horizontal distance gained\n",
    "## speed of plane times time to drop 2m static line\n",
    "## 1/2*g*ta**2 = sl\n",
    "ta = math.sqrt(2*sl/g)\n",
    "Lha = P*ta\n",
    "\n",
    "print('step a (from drop to static line disconnect):')\n",
    "print('time to free fall fall 2 m = ', round(ta,4), ' s')\n",
    "print('vertical length gained = ', round(Lva,4), ' m')\n",
    "print('horizontal length gained = ', round(Lha,4), ' m')"
   ]
  },
  {
   "cell_type": "code",
   "execution_count": 294,
   "metadata": {
    "scrolled": true
   },
   "outputs": [
    {
     "name": "stdout",
     "output_type": "stream",
     "text": [
      "step b (from static line disconnect to timer runout):\n",
      "vertical velocity at beginning of step b =  6.2642  m/s\n",
      "vertical length gained =  32.1484  m\n",
      "horizontal length gained =  76  m\n"
     ]
    }
   ],
   "source": [
    "# Step b - deployment timer running\n",
    "## deployment timer is a 2 sec timer\n",
    "\n",
    "# Assumptions\n",
    "## neglecting drag force\n",
    "\n",
    "# Variables\n",
    "## P = speed of plane\n",
    "## vb = velocity after 2m static line has extended (aka instant static line 'snaps')\n",
    "## g = acceleration due to gravity\n",
    "## Lvb = vertical length gained from step b\n",
    "## Lhb = horizontal length gained from step b\n",
    "## tb = time for step b to be complete\n",
    "\n",
    "# Calculations\n",
    "# vertical velocity at end of static line, beginning of timer\n",
    "vb = va + (g*ta)\n",
    "\n",
    "# since the deployment is controlled by a 2 sec timer:\n",
    "tb = 2\n",
    "\n",
    "# vertical length gained\n",
    "Lvb = (vb*tb) + (0.5*g*(tb**2))\n",
    "\n",
    "# horizontal length gained\n",
    "Lhb = P*tb\n",
    "\n",
    "print('step b (from static line disconnect to timer runout):')\n",
    "print('vertical velocity at beginning of step b = ', round(vb,4), ' m/s')\n",
    "print('vertical length gained = ', round(Lvb,4), ' m')\n",
    "print('horizontal length gained = ', round(Lhb,4), ' m')"
   ]
  },
  {
   "cell_type": "code",
   "execution_count": 295,
   "metadata": {
    "scrolled": true
   },
   "outputs": [
    {
     "name": "stdout",
     "output_type": "stream",
     "text": [
      "vertical velocity at ring separation =  25.8842  m/s\n"
     ]
    }
   ],
   "source": [
    "# Step c - eNSR ring separation\n",
    "\n",
    "# Assumptions:\n",
    "## This step only lasts for an instant; i.e. has no duration\n",
    "## drogue timer begins as ring separation occurs\n",
    "\n",
    "# Variables\n",
    "## P = speed of plane\n",
    "## vc = velocity at time of ring separation\n",
    "## g = acceleration due to gravity\n",
    "## Lvc = vertical length gained from step c\n",
    "## Lhc = horizontal length gained from step c\n",
    "## tc = time for step c to be complete\n",
    "\n",
    "# Calculations\n",
    "# velocity at time of ring separation, end of timer\n",
    "vc = vb + g*tb\n",
    "\n",
    "Lhc = 0\n",
    "Lvc = 0\n",
    "\n",
    "print('vertical velocity at ring separation = ', round(vc,4), ' m/s')"
   ]
  },
  {
   "cell_type": "code",
   "execution_count": 298,
   "metadata": {
    "scrolled": true
   },
   "outputs": [
    {
     "name": "stdout",
     "output_type": "stream",
     "text": [
      "possible solution: (-0.9195080227560037+0j)\n",
      "rejected\n",
      "possible solution: (0.856834792225604+0j)\n",
      "seems fine\n",
      "possible solution: (-5.2457650983629955-10.216221888917076j)\n",
      "rejected\n",
      "possible solution: (-5.2457650983629955+10.216221888917076j)\n",
      "rejected\n",
      " \n",
      "td =  0.8568\n",
      " \n",
      "time to pull out drogue: 0.8568 s\n",
      "horizontal distance gained =  32.5597 m\n",
      "vertical distance gained =  29.3806 m\n",
      "vertical velocity at instant line becomes taught =  34.2897 m/s\n",
      "horizontal velocity:  38 m/s\n"
     ]
    }
   ],
   "source": [
    "# Step d - drogue line is being pulled out\n",
    "\n",
    "# Assumptions\n",
    "## no drag force considered for horizon. and vert. decent until drogue is fully unfurled\n",
    "## just accounting for the 50' shock chord, therefore not including the lines coming directly from the 'chute\n",
    "## the drogue pulls out at an angle due to a small amount of drag on the drogue slowing it down horizontally\n",
    "\n",
    "# Variables\n",
    "## P = speed of plane\n",
    "## vd = velocity after 50' shock chord is drawn out\n",
    "## g = acceleration due to gravity\n",
    "## Lvd = vertical distance gained from step d\n",
    "## Lhd = horizontal distance gained from step d\n",
    "## td = time for step d to be complete\n",
    "\n",
    "## the 50' chord as the hypotenuse\n",
    "# 50 = math.sqrt((x^2) + (y^2))\n",
    "\n",
    "# vertical length gained from step d\n",
    "# Lvd = vc*td + 0.5*g*(td^2)\n",
    "\n",
    "# horizontal length gained from step d\n",
    "# Lhd = P*td\n",
    "\n",
    "# calculate td by replacing x and y in the above equation\n",
    "# 50**2 = (P*td)**2 + (vc*td + g*td**2)**2\n",
    "Ps, vds, gs, Lvds, Lhds, tds, vcs = sympy.symbols('Ps vds gs Lvds Lhds tds vcs')\n",
    "Dparms= {Ps: 50, gs: 9.81, vcs: vc}\n",
    "tdEqn= (Ps*tds)**2 + (vcs*tds + 0.5*gs*tds**2)**2 - 50**2\n",
    "tdSolns= sympy.solve(tdEqn.subs(Dparms))\n",
    "for soln in [complex(x) for x in tdSolns]:\n",
    "    print('possible solution:', soln)\n",
    "    if (soln.imag != 0) or (soln.real <= 0):\n",
    "        print('rejected')\n",
    "    else:\n",
    "        print('seems fine')\n",
    "        td= soln.real\n",
    "#sympy.solve(tdEqn, td)\n",
    "print(' ')\n",
    "print('td = ', round(td,4))\n",
    "print(' ')\n",
    "\n",
    "# now go back and calculate x and y\n",
    "Lhd = P*td\n",
    "Lvd = vc*td + g*(td**2)\n",
    "\n",
    "\n",
    "print('time to pull out drogue:', round(td,4), 's')\n",
    "print('horizontal distance gained = ', round(Lhd,4), 'm')\n",
    "print('vertical distance gained = ', round(Lvd,4), 'm')\n",
    "\n",
    "# vertical velocity gained after the 50' drop\n",
    "vd = vc + g*td\n",
    "\n",
    "print('vertical velocity at instant line becomes taught = ', round(vd,4), 'm/s')\n",
    "print('horizontal velocity: ', P, 'm/s')"
   ]
  },
  {
   "cell_type": "code",
   "execution_count": 289,
   "metadata": {
    "scrolled": true
   },
   "outputs": [
    {
     "name": "stdout",
     "output_type": "stream",
     "text": [
      "[-C2 + 131.689136096457]\n",
      "[-586.600000000000]\n",
      "734.1604925589361\n",
      "horizontal distance gained =  256.9134 m\n",
      " \n",
      "y_0 =  62.2619406518579\n",
      "vy_0 =  33.99659013437483\n",
      "C1 equation:  [-C2 + 62.2619406518579]\n",
      "C2 =  [-793.253769802079]\n",
      "C1 =  855.5157104539369\n",
      "vertical distance gained =  157.96741350830814 m\n"
     ]
    }
   ],
   "source": [
    "# Step e - drogue is fully deployed\n",
    "\n",
    "# Assumptions\n",
    "## drag force in full effect\n",
    "## skipping impulse and time to steady state\n",
    "\n",
    "#Variables\n",
    "# cd = coeff. of drag [unitless]\n",
    "# D = drag force = mass of payload*g [N]\n",
    "# rho = density of air [kg/m^3]\n",
    "# A = area of parachute [m^2]\n",
    "# v = approx. steady state velocity of drogue [m/s]\n",
    "# m = mass of payload [kg]\n",
    "# Rd = drogue radius [m]\n",
    "# w = wind speed [m/s]\n",
    "\n",
    "D = m*g\n",
    "v = 18.5 # according to rocketman\n",
    "rho = 1.2\n",
    "Rd= 0.762\n",
    "A = math.pi*(Rd**2)\n",
    "cd = (2*D)/(rho*A*v**2)\n",
    "m = 28\n",
    "w = 12.86\n",
    "\n",
    "# x-direction calculations\n",
    "##########################\n",
    "\n",
    "# from usma:\n",
    "# mx\" + cd*x' = cd*w\n",
    "####### need python help here #######\n",
    "# ugh, I have to go learn how to use scipy... 1 sec -- Joe\n",
    "# mx\" + cd*x\n",
    "\n",
    "## homogeneous equation mx\" + rho*x' = 0 \n",
    "##  characteristic equation for the homogeneous differential equation is:\n",
    "## mr^2 + rho*r = 0 \n",
    "## where the roots are: \n",
    "## r1 = 0, r2 = -(rho/m)\n",
    "## complementary solution:\n",
    "## xc = C1*e^0 + C2* e^(-(rho*t/m))\n",
    "\n",
    "## non-homogeneous equation mx\" + rho*x' = rho*w\n",
    "## complete solution x = C1 + C2*e^(-(rho*t/m)) + wt\n",
    "\n",
    "## solving for C1 and C2 using results from step d as initial conditions\n",
    "## except time = 0 since we are making calculations just for this step\n",
    "## i.e. x(0) = x_curr_tot and vx(0) = P\n",
    "## therefore C1 =  and C2 =\n",
    "\n",
    "x_0 = Lha + Lhb + Lhc + Lhd\n",
    "t = 0\n",
    "vx_0 = P\n",
    "C1 = Symbol('C1')\n",
    "C2 = Symbol('C2')\n",
    "C_1 = solve(C1 + C2*math.exp(-(rho*t/m)) + w*t - x_0, C1)\n",
    "print(C_1)\n",
    "C_2 = solve(C2*(-(rho/m)) + w - vx_0, C2)\n",
    "print(C_2)\n",
    "## NEEEED HELLLPPP should be using piecewise to solve this\n",
    "## copying C_1 output from just above with the C_2 value\n",
    "calc_C1 = 147.560492558936 + 586.6\n",
    "print(calc_C1)\n",
    "\n",
    "## therefore the complete solution is: \n",
    "## x = 734.1605 - 586.6*exp(-(rho*t/m)) + w*t\n",
    "\n",
    "## if the drogue falls for 3 seconds, then\n",
    "t = 3\n",
    "Lhe = 734.1605 - 586.6*math.exp(-(rho*t/m)) + w*t\n",
    "\n",
    "print('horizontal distance gained = ', round(Lhe,4), 'm')\n",
    "print(' ')\n",
    "\n",
    "# y-direction calculations\n",
    "##########################\n",
    "\n",
    "## from usma\n",
    "## characteristic equation:\n",
    "## m*r^2 + rho*r = 0\n",
    "## where the roots are r = 0 and r = (-b/m)\n",
    "\n",
    "## complete solution:\n",
    "## y = C1 + C2*exp(-(rho*t)/m)\n",
    "## solving for C1 and C2 using results from step d as initial conditions\n",
    "## except time = 0 since we are making calculations just for this step\n",
    "\n",
    "y_0 = Lva + Lvb + Lvc + Lvd\n",
    "print('y_0 = ', y_0)\n",
    "vy_0 = vd\n",
    "print('vy_0 = ',vy_0)\n",
    "t_0 = 0\n",
    "C1 = Symbol('C1')\n",
    "C2 = Symbol('C2')\n",
    "## NEEEED HELLLPPP should be using piecewise to solve this\n",
    "# C1 equation\n",
    "C_1 = solve(C1 + C2*math.exp(-(rho*t_0/m)) - y_0, C1)\n",
    "print('C1 equation: ', C_1)\n",
    "# C2 equation/value\n",
    "C_2 = solve(C2*(-(rho/m)*math.exp(-(rho*t_0/m))) - vy_0, C2)\n",
    "print('C2 = ', C_2)\n",
    "## copying C_1 output from just above with the C_2 value\n",
    "calc_C1 = 793.253769802079 + 62.2619406518579                   #62.2619406518579 + (0.879350749407306*793.253769802079)\n",
    "print('C1 = ', calc_C1)\n",
    "\n",
    "# NEED HELP: need to make C_2 a number (int, float)\n",
    "## if the drogue falls for 3 seconds, then\n",
    "t = 3\n",
    "Lve = calc_C1 + (-793.253769802079*math.exp(-(rho/m)*t))\n",
    "\n",
    "print('vertical distance gained = ', Lve, 'm')"
   ]
  },
  {
   "cell_type": "code",
   "execution_count": 300,
   "metadata": {},
   "outputs": [
    {
     "name": "stdout",
     "output_type": "stream",
     "text": [
      "304.80000000000007\n"
     ]
    }
   ],
   "source": [
    "## Maayybbbeee\n",
    "\n",
    "vert_length = v*t\n",
    "print(vert_length)"
   ]
  },
  {
   "cell_type": "code",
   "execution_count": 290,
   "metadata": {},
   "outputs": [
    {
     "name": "stdout",
     "output_type": "stream",
     "text": [
      "[-C2 + 388.602486494131]\n",
      "[0.0]\n",
      "472.565722165574\n",
      "horizontal distance gained =  684.4429113547633 m\n",
      "current y decent length  220.22935416016605\n",
      "C1 =  2040.7533333333333\n",
      "C2 =  -417.5233333333333\n",
      "vertical distance gained =  304.8 m\n"
     ]
    }
   ],
   "source": [
    "# Step f - main 'chute fully deployed\n",
    "## Assumptions\n",
    "### drag force in full effect\n",
    "### skipping impulse and time to steady state\n",
    "### main 'chute is a full 18' in dia.\n",
    "### after payload has gone through the drogue decent, the horizontal velocity is the same as the wind speed\n",
    "## Resources\n",
    "### http://www.usma.edu/math/Military%20Math%20Modeling/C5.pdf\n",
    "### http://www.the-rocketman.com/decent-rate.html\n",
    "\n",
    "# cd = coeff. of drag [unitless]\n",
    "# D = drag force = weight of payload*g [N]\n",
    "# rho = density of air [kg/m^3]\n",
    "# A = area of parachute [m^2]\n",
    "# v_main = approx. steady state velocity of main 'chute [m/s]\n",
    "# m = mass of payload [kg]\n",
    "# w = wind speed [m/s]\n",
    "\n",
    "v_main = 4.83108 # according to rocketman\n",
    "rho = 1.2\n",
    "A = math.pi*(5.4864**2)\n",
    "m = 28\n",
    "D = m*g\n",
    "cd = (2*D)/(rho*A*v)\n",
    "w = 12.86\n",
    "Lvf = 304.8\n",
    "\n",
    "# x-direction calculations\n",
    "##########################\n",
    "\n",
    "# from usma:\n",
    "# mx\" + cd*x' = cd*w\n",
    "####### need python help here #######\n",
    "\n",
    "## homogeneous equation mx\" + rho*x' = 0 \n",
    "## characteristic equation for the homogeneous differential equation is:\n",
    "## mr^2 + rho*r = 0 \n",
    "## where the roots are: \n",
    "## r1 = 0, r2 = -(rho/m)\n",
    "## complementary solution:\n",
    "## xc = C1*e^0 + C2* e^(-(rho*t/m))\n",
    "\n",
    "## non-homogeneous equation mx\" + rho*x' = rho*w\n",
    "## complete solution x = C1 + C2*e^(-(rho*t/m)) + wt\n",
    "\n",
    "## solving for C1 and C2 using results from step d as initial conditions\n",
    "## except time = 0 since we are making calculations just for this step\n",
    "## i.e. x(0) = x_curr_tot and vx(0) = P\n",
    "## therefore C1 =  and C2 =\n",
    "\n",
    "x_0 = Lha + Lhb + Lhc + Lhd + Lhe\n",
    "t = 0\n",
    "vx_0 = w\n",
    "C1 = Symbol('C1')\n",
    "C2 = Symbol('C2')\n",
    "C_1 = solve(C1 + C2*math.exp(-(rho*t/m)) + w*t - x_0, C1)\n",
    "print(C_1)\n",
    "C_2 = solve(C2*(-(rho/m)) + w - vx_0, C2)\n",
    "print(C_2)\n",
    "## NEEEED HELLLPPP should be using piecewise to solve this\n",
    "## copying C_1 output from just above with the C_2 value\n",
    "calc_C1 = 0 + 472.565722165574\n",
    "print(calc_C1)\n",
    "\n",
    "## therefore the complete solution is: \n",
    "## x = 472.565722165574 - 0 + w*t\n",
    "\n",
    "## time for the main to drop approximately 1000ft = 304.8m\n",
    "d = Lvf\n",
    "t = Lvf/v\n",
    "Lhf = 472.565722165574 + w*t\n",
    "\n",
    "print('horizontal distance gained = ', Lhf, 'm')\n",
    "\n",
    "# y-direction calculations\n",
    "##########################\n",
    "\n",
    "## from usma\n",
    "## characteristic equation:\n",
    "## m*r^2 + rho*r = 0\n",
    "## where the roots are r = 0 and r = (-b/m)\n",
    "\n",
    "## completed solution:\n",
    "## y = C1 + C2*exp(-(rho*t)/m)\n",
    "## solving for C1 and C2 using results from step d as initial conditions\n",
    "## except time = 0 since we are making calculations just for this step\n",
    "\n",
    "y_0 = Lva + Lvb + Lvc + Lvd + Lve\n",
    "print('current y decent length ', y_0)\n",
    "y_f = y_0 + Lvf\n",
    "v_f = 4.831\n",
    "\n",
    "C_1 = ((v_f*m)/rho) + 1928.03\n",
    "C_2 = 1623.23 - C_1\n",
    "\n",
    "\n",
    "\n",
    "\n",
    "\n",
    "#vy_0 = v_drogue\n",
    "##C1 = Symbol('C1')\n",
    "##C2 = Symbol('C2')\n",
    "## NEEEED HELLLPPP should be using piecewise to solve this\n",
    "##C_1 = solve(C1 + C2*math.exp(-(rho*t/m)) - y_0, C1)\n",
    "print('C1 = ', C_1)\n",
    "#C_2 = solve(C2*(-(rho/m)) - vy_0, C2)\n",
    "print('C2 = ', C_2)\n",
    "## copying C_1 output from just above with the C_2 value\n",
    "##calc_C1 = (0.0669425369539634*431.666666666667) + 1558.70743507288\n",
    "#print(calc_C1)\n",
    "\n",
    "##Lvf = 1587.6042968580075 +  (431.666666666667*math.exp(-(rho/m)*t))\n",
    "\n",
    "print('vertical distance gained = ', Lvf, 'm')"
   ]
  },
  {
   "cell_type": "code",
   "execution_count": 291,
   "metadata": {},
   "outputs": [
    {
     "name": "stdout",
     "output_type": "stream",
     "text": [
      "TOTAL HORIZONTAL DISTANCE TRAVELED 1073.0453978488945 m\n",
      "TOTAL VERTICAL DISTANCE DESCENDED 525.0293541601661 m\n"
     ]
    }
   ],
   "source": [
    "## TOTALLLLSSSSS!!!!!!!!!!!!!!!!1111111111111111!!!!!!!!!!!!\n",
    "\n",
    "# TOTAL HORIZONTAL DISTANCE TRAVELED\n",
    "X_TOT = Lha + Lhb + Lhc + Lhd + Lhe + Lhf\n",
    "print('TOTAL HORIZONTAL DISTANCE TRAVELED', X_TOT, 'm')\n",
    "\n",
    "# TOTAL VERTICAL DISTANCE DESCENDED\n",
    "Y_TOT = Lva + Lvb + Lvc + Lvd + Lve + Lvf\n",
    "print('TOTAL VERTICAL DISTANCE DESCENDED', Y_TOT, 'm')"
   ]
  },
  {
   "cell_type": "code",
   "execution_count": null,
   "metadata": {
    "collapsed": true,
    "scrolled": true
   },
   "outputs": [],
   "source": []
  }
 ],
 "metadata": {
  "kernelspec": {
   "display_name": "Python 3",
   "language": "python",
   "name": "python3"
  },
  "language_info": {
   "codemirror_mode": {
    "name": "ipython",
    "version": 3
   },
   "file_extension": ".py",
   "mimetype": "text/x-python",
   "name": "python",
   "nbconvert_exporter": "python",
   "pygments_lexer": "ipython3",
   "version": "3.6.1"
  },
  "varInspector": {
   "cols": {
    "lenName": 16,
    "lenType": 16,
    "lenVar": 40
   },
   "kernels_config": {
    "python": {
     "delete_cmd_postfix": "",
     "delete_cmd_prefix": "del ",
     "library": "var_list.py",
     "varRefreshCmd": "print(var_dic_list())"
    },
    "r": {
     "delete_cmd_postfix": ") ",
     "delete_cmd_prefix": "rm(",
     "library": "var_list.r",
     "varRefreshCmd": "cat(var_dic_list()) "
    }
   },
   "types_to_exclude": [
    "module",
    "function",
    "builtin_function_or_method",
    "instance",
    "_Feature"
   ],
   "window_display": false
  }
 },
 "nbformat": 4,
 "nbformat_minor": 2
}
