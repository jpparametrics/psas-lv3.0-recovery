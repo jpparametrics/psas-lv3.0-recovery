{
 "cells": [
  {
   "cell_type": "markdown",
   "metadata": {},
   "source": [
    "This notebook will encompass all calculations regarding the LV3 Recovery/eNSR Drop Test."
   ]
  },
  {
   "cell_type": "code",
   "execution_count": 1,
   "metadata": {
    "collapsed": false,
    "scrolled": true
   },
   "outputs": [],
   "source": [
    "import math\n",
    "import sympy\n",
    "from scipy.integrate import odeint\n",
    "sympy.init_printing()\n",
    "%matplotlib inline"
   ]
  },
  {
   "cell_type": "code",
   "execution_count": 2,
   "metadata": {
    "collapsed": true
   },
   "outputs": [],
   "source": [
    "m= 28 # mass of payload [kg]"
   ]
  },
  {
   "cell_type": "code",
   "execution_count": 3,
   "metadata": {
    "collapsed": false,
    "scrolled": true
   },
   "outputs": [
    {
     "name": "stdout",
     "output_type": "stream",
     "text": [
      "step a (from drop to static line disconnect):\n",
      "time to free fall fall 2 m =  0.638550856814101  s\n",
      "vertical length gained =  2  m\n",
      "horizontal length gained =  24.264932558935836  m\n"
     ]
    }
   ],
   "source": [
    "# Step a - static line extending\n",
    "## Assumptions:\n",
    "## static line is approximately 2m long\n",
    "## plane is flying at approximately 85 mph = 38 m/s\n",
    "\n",
    "# Variables\n",
    "## P = speed of plane\n",
    "## va = velocity at instant the system is pushed from the plane\n",
    "## g = acceleration due to gravity\n",
    "## sl = static line length\n",
    "## Lva = vertical length gained from step a \n",
    "## Lha = horizaontal length gained from step a\n",
    "## ta = time for step a to be complete\n",
    "\n",
    "P = 38 # m/s\n",
    "va = 0\n",
    "g = 9.81 # m/s^2\n",
    "sl = 2 # m\n",
    "\n",
    "# Calculations\n",
    "# vertical Distance Gained\n",
    "## since the static line is 2m, assuming it falls only in the vertical direction:\n",
    "Lva = 2\n",
    "\n",
    "# horizontal Distance Gained\n",
    "## speed of plane times time to drop 2m static line\n",
    "# 1/2*g*ta**2 = sl\n",
    "ta = math.sqrt(2*sl/g) # assuming no drag\n",
    "Lha = P*ta\n",
    "\n",
    "print('step a (from drop to static line disconnect):')\n",
    "print('time to free fall fall 2 m = ', ta, ' s')\n",
    "print('vertical length gained = ', Lva, ' m')\n",
    "print('horizontal length gained = ', Lha, ' m')"
   ]
  },
  {
   "cell_type": "code",
   "execution_count": 4,
   "metadata": {
    "collapsed": false,
    "scrolled": true
   },
   "outputs": [
    {
     "name": "stdout",
     "output_type": "stream",
     "text": [
      "step b (from static line disconnect to timer runout):\n",
      "velocity at beginning of step b =  6.26418390534633  m/s\n",
      "vertical length gained =  32.14836781069266  m\n",
      "horizontal length gained =  76  m\n"
     ]
    }
   ],
   "source": [
    "# Step b - deployment timer running\n",
    "## deployment timer is a 2 sec timer\n",
    "\n",
    "# Variables\n",
    "## P = speed of plane\n",
    "## vb = velocity after 2m static line (aka instant static line 'snaps')\n",
    "## g = acceleration due to gravity\n",
    "## Lvb = vertical length gained from step b\n",
    "## Lhb = horizontal length gained from step b\n",
    "## tb = time for step b to be complete\n",
    "\n",
    "# Calculations\n",
    "# vertical velocity at time of 'snap'\n",
    "vb = va + (g*ta)\n",
    "\n",
    "# since the deployment is controlled by a timer:\n",
    "tb = 2\n",
    "\n",
    "# vertical length gained\n",
    "Lvb = (vb*tb) + (0.5*g*(tb**2))\n",
    "\n",
    "# horizontal length gained\n",
    "Lhb = P*tb\n",
    "\n",
    "print('step b (from static line disconnect to timer runout):')\n",
    "print('velocity at beginning of step b = ', vb, ' m/s')\n",
    "print('vertical length gained = ', Lvb, ' m')\n",
    "print('horizontal length gained = ', Lhb, ' m')"
   ]
  },
  {
   "cell_type": "code",
   "execution_count": 5,
   "metadata": {
    "collapsed": false,
    "scrolled": true
   },
   "outputs": [
    {
     "name": "stdout",
     "output_type": "stream",
     "text": [
      "velocity at ring separation =  25.884183905346333  m/s\n"
     ]
    }
   ],
   "source": [
    "# Step c - eNSR ring separation\n",
    "## Assumptions:\n",
    "### the body is falling straight downward from the drogue 'chute\n",
    "### drogue timer begins as ring separation occurs\n",
    "\n",
    "# Variables\n",
    "## P = speed of plane\n",
    "## vc = velocity at time of ring separation\n",
    "## g = acceleration due to gravity\n",
    "## Lvc = vertical length gained from step c\n",
    "## Lhc = horizontal length gained from step c\n",
    "## tc = time for step c to be complete\n",
    "\n",
    "# Calculations\n",
    "# velocity at time of ring separation\n",
    "vc = vb + g*tb\n",
    "\n",
    "Lhc = 0\n",
    "Lvc = 0\n",
    "\n",
    "print('velocity at ring separation = ', vc, ' m/s')"
   ]
  },
  {
   "cell_type": "code",
   "execution_count": 6,
   "metadata": {
    "collapsed": false,
    "scrolled": true
   },
   "outputs": [
    {
     "name": "stdout",
     "output_type": "stream",
     "text": [
      "possible solution: (-0.9492191248163822+0j)\n",
      "rejected\n",
      "possible solution: (0.8269527246716099+0j)\n",
      "seems fine\n",
      "possible solution: (-2.5774176567417117-5.143086874740167j)\n",
      "rejected\n",
      "possible solution: (-2.5774176567417117+5.143086874740167j)\n",
      "rejected\n"
     ]
    }
   ],
   "source": [
    "# Step d - drogue line is being pulled out\n",
    "## Assumptions\n",
    "### no drag force considered for horizon. and vert. decent until drogue is fully unfurled\n",
    "### just accounting for the 50' shock chord, therefore not including the lines coming directly from the 'chute\n",
    "\n",
    "# Variables\n",
    "## P = speed of plane\n",
    "## vd = velocity after 50' shock chord is drawn out\n",
    "## g = acceleration due to gravity\n",
    "## Lvd = vertical distance gained from step d\n",
    "## Lhd = horizontal distance gained from step d\n",
    "## td = time for step d to be complete\n",
    "\n",
    "# assuming the drogue pulls out at an angle due to a small amount of drag slowing the drogue down horizontally\n",
    "## the 50' chord as the hypotenuse\n",
    "# 50 = math.sqrt((x^2) + (y^2))\n",
    "\n",
    "# vertical length gained from step d\n",
    "# Lvd = vc*td + g*(td^2)\n",
    "\n",
    "# horizontal length gained from step d\n",
    "# Lhd = P*td\n",
    "\n",
    "# calculate td by replacing x and y in the above equation\n",
    "# 50**2 = (P*td)**2 + (vc*td + g*td**2)**2\n",
    "Ps, vds, gs, Lvds, Lhds, tds, vcs = sympy.symbols('Ps vds gs Lvds Lhds tds vcs')\n",
    "Dparms= {Ps: 50, gs: 9.81, vcs: vc}\n",
    "tdEqn= (Ps*tds)**2 + (vcs*tds + gs*tds**2)**2 - 50**2\n",
    "tdSolns= sympy.solve(tdEqn.subs(Dparms))\n",
    "for soln in [complex(x) for x in tdSolns]:\n",
    "    print('possible solution:', soln)\n",
    "    if (soln.imag != 0) or (soln.real <= 0):\n",
    "        print('rejected')\n",
    "    else:\n",
    "        print('seems fine')\n",
    "        td= soln.real\n",
    "#sympy.solve(tdEqn, td)"
   ]
  },
  {
   "cell_type": "code",
   "execution_count": 7,
   "metadata": {
    "collapsed": false,
    "scrolled": true
   },
   "outputs": [
    {
     "name": "stdout",
     "output_type": "stream",
     "text": [
      "time to pull out drogue: 0.8269527246716099\n",
      "horizontal distance gained =  31.424203537521173\n",
      "vertical distance gained =  28.113572841165233\n",
      "vertical velocity at instant line becomes taught =  33.99659013437483 m/s\n",
      "horizontal velocity:  38\n"
     ]
    }
   ],
   "source": [
    "# now go back and calculate x and y\n",
    "Lhd = P*td\n",
    "Lvd = vc*td + g*(td**2)\n",
    "\n",
    "print('time to pull out drogue:', td)\n",
    "print('horizontal distance gained = ', Lhd)\n",
    "print('vertical distance gained = ', Lvd)\n",
    "\n",
    "# vertical velocity gained after the 50' drop\n",
    "vd = vc + g*td\n",
    "\n",
    "print('vertical velocity at instant line becomes taught = ', vd, 'm/s')\n",
    "print('horizontal velocity: ', P)"
   ]
  },
  {
   "cell_type": "code",
   "execution_count": 8,
   "metadata": {
    "collapsed": false,
    "scrolled": true
   },
   "outputs": [
    {
     "ename": "NameError",
     "evalue": "name 'Symbol' is not defined",
     "output_type": "error",
     "traceback": [
      "\u001b[0;31m---------------------------------------------------------------------------\u001b[0m",
      "\u001b[0;31mNameError\u001b[0m                                 Traceback (most recent call last)",
      "\u001b[0;32m<ipython-input-8-5e5189c189e3>\u001b[0m in \u001b[0;36m<module>\u001b[0;34m()\u001b[0m\n\u001b[1;32m     52\u001b[0m \u001b[0mt\u001b[0m \u001b[0;34m=\u001b[0m \u001b[0;36m0\u001b[0m\u001b[0;34m\u001b[0m\u001b[0m\n\u001b[1;32m     53\u001b[0m \u001b[0mvx_0\u001b[0m \u001b[0;34m=\u001b[0m \u001b[0mP\u001b[0m\u001b[0;34m\u001b[0m\u001b[0m\n\u001b[0;32m---> 54\u001b[0;31m \u001b[0mC1\u001b[0m \u001b[0;34m=\u001b[0m \u001b[0mSymbol\u001b[0m\u001b[0;34m(\u001b[0m\u001b[0;34m'C1'\u001b[0m\u001b[0;34m)\u001b[0m\u001b[0;34m\u001b[0m\u001b[0m\n\u001b[0m\u001b[1;32m     55\u001b[0m \u001b[0mC2\u001b[0m \u001b[0;34m=\u001b[0m \u001b[0mSymbol\u001b[0m\u001b[0;34m(\u001b[0m\u001b[0;34m'C2'\u001b[0m\u001b[0;34m)\u001b[0m\u001b[0;34m\u001b[0m\u001b[0m\n\u001b[1;32m     56\u001b[0m \u001b[0mC_1\u001b[0m \u001b[0;34m=\u001b[0m \u001b[0msolve\u001b[0m\u001b[0;34m(\u001b[0m\u001b[0mC1\u001b[0m \u001b[0;34m+\u001b[0m \u001b[0mC2\u001b[0m\u001b[0;34m*\u001b[0m\u001b[0mmath\u001b[0m\u001b[0;34m.\u001b[0m\u001b[0mexp\u001b[0m\u001b[0;34m(\u001b[0m\u001b[0;34m-\u001b[0m\u001b[0;34m(\u001b[0m\u001b[0mrho\u001b[0m\u001b[0;34m*\u001b[0m\u001b[0mt\u001b[0m\u001b[0;34m/\u001b[0m\u001b[0mm\u001b[0m\u001b[0;34m)\u001b[0m\u001b[0;34m)\u001b[0m \u001b[0;34m+\u001b[0m \u001b[0mw\u001b[0m\u001b[0;34m*\u001b[0m\u001b[0mt\u001b[0m \u001b[0;34m-\u001b[0m \u001b[0mx_0\u001b[0m\u001b[0;34m,\u001b[0m \u001b[0mC1\u001b[0m\u001b[0;34m)\u001b[0m\u001b[0;34m\u001b[0m\u001b[0m\n",
      "\u001b[0;31mNameError\u001b[0m: name 'Symbol' is not defined"
     ]
    }
   ],
   "source": [
    "# Step e - drogue is fully deployed\n",
    "## Assumptions\n",
    "### drag force in full effect\n",
    "### skipping impulse and time to steady state\n",
    "## Resources\n",
    "### http://www.usma.edu/math/Military%20Math%20Modeling/C5.pdf\n",
    "### http://www.the-rocketman.com/drogue-decent-rate.html\n",
    "\n",
    "# cd = coeff. of drag [unitless]\n",
    "# D = drag force = mass of payload*g [N]\n",
    "# rho = density of air [kg/m^3]\n",
    "# A = area of parachute [m^2]\n",
    "# v = approx. steady state velocity of drogue [m/s]\n",
    "# m = mass of payload [kg]\n",
    "# w = wind speed [m/s]\n",
    "\n",
    "D = m*g\n",
    "v = 18.5 # according to rocketman\n",
    "# The OpenRocket simulation says something different, but AFAIK that's using\n",
    "# the drogue from LV2. -- Joe\n",
    "rho = 1.2\n",
    "Rd= 0.762 # drogue radius [m]\n",
    "A = math.pi*(Rd**2)\n",
    "cd = (2*D)/(rho*A*v**2)\n",
    "m = 28\n",
    "w = 12.86\n",
    "\n",
    "# x-direction calculations\n",
    "##########################\n",
    "\n",
    "# from usma:\n",
    "# mx\" + cd*x' = cd*w\n",
    "####### need python help here #######\n",
    "# ugh, I have to go learn how to use scipy... 1 sec -- Joe\n",
    "# mx\" + cd*x\n",
    "\n",
    "## homogeneous equation mx\" + rho*x' = 0 \n",
    "##  characteristic equation for the homogeneous differential equation is:\n",
    "## mr^2 + rho*r = 0 \n",
    "## where the roots are: \n",
    "## r1 = 0, r2 = -(rho/m)\n",
    "## complementary solution:\n",
    "## xc = C1*e^0 + C2* e^(-(rho*t/m))\n",
    "\n",
    "## non-homogeneous equation mx\" + rho*x' = rho*w\n",
    "## complete solution x = C1 + C2*e^(-(rho*t/m)) + wt\n",
    "\n",
    "## solving for C1 and C2 using results from step d as initial conditions\n",
    "## except time = 0 since we are making calculations just for this step\n",
    "## i.e. x(0) = x_curr_tot and vx(0) = P\n",
    "## therefore C1 =  and C2 =\n",
    "\n",
    "x_0 = Lha + Lhb + Lhc + Lhd\n",
    "t = 0\n",
    "vx_0 = P\n",
    "C1 = Symbol('C1')\n",
    "C2 = Symbol('C2')\n",
    "C_1 = solve(C1 + C2*math.exp(-(rho*t/m)) + w*t - x_0, C1)\n",
    "print(C_1)\n",
    "C_2 = solve(C2*(-(rho/m)) + w - vx_0, C2)\n",
    "print(C_2)\n",
    "## NEEEED HELLLPPP should be using piecewise to solve this\n",
    "## copying C_1 output from just above with the C_2 value\n",
    "calc_C1 = 147.560492558936 + 586.6\n",
    "print(calc_C1)\n",
    "\n",
    "## therefore the complete solution is: \n",
    "## x = 734.1605 - 586.6*exp(-(rho*t/m)) + w*t\n",
    "\n",
    "## if the drogue falls for 3 seconds, then\n",
    "t = 3\n",
    "Lhe = 734.1605 - 586.6*math.exp(-(rho*t/m)) + w*t\n",
    "\n",
    "print('horizontal distance gained = ', Lhe, 'm')\n",
    "\n",
    "# y-direction calculations\n",
    "##########################\n",
    "\n",
    "## from usma\n",
    "## characteristic equation:\n",
    "## m*r^2 + rho*r = 0\n",
    "## where the roots are r = 0 and r = (-b/m)\n",
    "\n",
    "## complementary solution:\n",
    "## yc = C1 + C2*exp(-(rho*t)/m)\n",
    "## solving for C1 and C2 using results from step d as initial conditions\n",
    "## except time = 0 since we are making calculations just for this step\n",
    "\n",
    "y_0 = Lva + Lvb + Lvc + Lvd\n",
    "vy_0 = vd\n",
    "C1 = Symbol('C1')\n",
    "C2 = Symbol('C2')\n",
    "## NEEEED HELLLPPP should be using piecewise to solve this\n",
    "C_1 = solve(C1 + C2*math.exp(-(rho*t/m)) - y_0, C1)\n",
    "print(C_1)\n",
    "C_2 = solve(C2*(-(rho/m)) - vy_0, C2)\n",
    "print(C_2)\n",
    "## copying C_1 output from just above with the C_2 value\n",
    "calc_C1 = 61.9408052275288 + (0.807117747005389*888.857809124747)\n",
    "print(calc_C1)\n",
    "\n",
    "Lve = 779.3537175364406 + (888.857809124747*math.exp(-(rho/m)*t))\n",
    "\n",
    "print('vertical distance gained = ', Lve, 'm')"
   ]
  },
  {
   "cell_type": "code",
   "execution_count": 168,
   "metadata": {},
   "outputs": [
    {
     "name": "stdout",
     "output_type": "stream",
     "text": [
      "[-C2 + 404.47384295661]\n",
      "[0.0]\n",
      "472.565722165574\n",
      "horizontal distance gained =  1283.9221890425456 m\n",
      "[-0.0669425369539634*C2 + 1622.91230333435]\n",
      "[-431.666666666667]\n",
      "1587.6042968580075\n",
      "vetical distance gained =  1616.501158643135 m\n"
     ]
    }
   ],
   "source": [
    "# Step f - main 'chute fully deployed\n",
    "## Assumptions\n",
    "### drag force in full effect\n",
    "### skipping impulse and time to steady state\n",
    "### main 'chute is a full 18' in dia.\n",
    "### after payload has gone through the drogue decent, the horizontal velocity is the same as the wind speed\n",
    "## Resources\n",
    "### http://www.usma.edu/math/Military%20Math%20Modeling/C5.pdf\n",
    "### http://www.the-rocketman.com/decent-rate.html\n",
    "\n",
    "# cd = coeff. of drag [unitless]\n",
    "# D = drag force = weight of payload*g [N]\n",
    "# rho = density of air [kg/m^3]\n",
    "# A = area of parachute [m^2]\n",
    "# v_main = approx. steady state velocity of main 'chute [m/s]\n",
    "# m = mass of payload [kg]\n",
    "# w = wind speed [m/s]\n",
    "\n",
    "v_main = 4.83108 # according to rocketman\n",
    "rho = 1.2\n",
    "A = math.pi*(5.4864**2)\n",
    "m = 28\n",
    "D = m*g\n",
    "cd = (2*D)/(rho*A*v)\n",
    "w = 12.86\n",
    "\n",
    "# x-direction calculations\n",
    "##########################\n",
    "\n",
    "# from usma:\n",
    "# mx\" + cd*x' = cd*w\n",
    "####### need python help here #######\n",
    "\n",
    "## homogeneous equation mx\" + rho*x' = 0 \n",
    "## characteristic equation for the homogeneous differential equation is:\n",
    "## mr^2 + rho*r = 0 \n",
    "## where the roots are: \n",
    "## r1 = 0, r2 = -(rho/m)\n",
    "## complementary solution:\n",
    "## xc = C1*e^0 + C2* e^(-(rho*t/m))\n",
    "\n",
    "## non-homogeneous equation mx\" + rho*x' = rho*w\n",
    "## complete solution x = C1 + C2*e^(-(rho*t/m)) + wt\n",
    "\n",
    "## solving for C1 and C2 using results from step d as initial conditions\n",
    "## except time = 0 since we are making calculations just for this step\n",
    "## i.e. x(0) = x_curr_tot and vx(0) = P\n",
    "## therefore C1 =  and C2 =\n",
    "\n",
    "x_0 = Lha + Lhb + Lhc + Lhd + Lhe\n",
    "t = 0\n",
    "vx_0 = w\n",
    "C1 = Symbol('C1')\n",
    "C2 = Symbol('C2')\n",
    "C_1 = solve(C1 + C2*math.exp(-(rho*t/m)) + w*t - x_0, C1)\n",
    "print(C_1)\n",
    "C_2 = solve(C2*(-(rho/m)) + w - vx_0, C2)\n",
    "print(C_2)\n",
    "## NEEEED HELLLPPP should be using piecewise to solve this\n",
    "## copying C_1 output from just above with the C_2 value\n",
    "calc_C1 = 0 + 472.565722165574\n",
    "print(calc_C1)\n",
    "\n",
    "## therefore the complete solution is: \n",
    "## x = 472.565722165574 - 0 + w*t\n",
    "\n",
    "## time for the main to drop approximately 1000ft = 304.8m\n",
    "d = 304.8\n",
    "t = 304.8/v\n",
    "Lhf = 472.565722165574 + w*t\n",
    "\n",
    "print('horizontal distance gained = ', Lhf, 'm')\n",
    "\n",
    "# y-direction calculations\n",
    "##########################\n",
    "\n",
    "## from usma\n",
    "## characteristic equation:\n",
    "## m*r^2 + rho*r = 0\n",
    "## where the roots are r = 0 and r = (-b/m)\n",
    "\n",
    "## complementary solution:\n",
    "## yc = C1 + C2*exp(-(rho*t)/m)\n",
    "## solving for C1 and C2 using results from step d as initial conditions\n",
    "## except time = 0 since we are making calculations just for this step\n",
    "\n",
    "y_0 = Lva + Lvb + Lvc + Lvd + Lve\n",
    "vy_0 = v_drogue\n",
    "C1 = Symbol('C1')\n",
    "C2 = Symbol('C2')\n",
    "## NEEEED HELLLPPP should be using piecewise to solve this\n",
    "C_1 = solve(C1 + C2*math.exp(-(rho*t/m)) - y_0, C1)\n",
    "print(C_1)\n",
    "C_2 = solve(C2*(-(rho/m)) - vy_0, C2)\n",
    "print(C_2)\n",
    "## copying C_1 output from just above with the C_2 value\n",
    "calc_C1 = (0.0669425369539634*431.666666666667) + 1558.70743507288\n",
    "print(calc_C1)\n",
    "\n",
    "Lvf = 1587.6042968580075 +  (431.666666666667*math.exp(-(rho/m)*t))\n",
    "\n",
    "print('vetical distance gained = ', Lvf, 'm')"
   ]
  },
  {
   "cell_type": "code",
   "execution_count": 169,
   "metadata": {},
   "outputs": [
    {
     "name": "stdout",
     "output_type": "stream",
     "text": [
      "TOTAL HORIZONTAL DISTANCE TRAVELED 1688.3960319991556 m\n",
      "TOTAL VERTICAL DISTANCE DESCENDED 3239.413461977487 m\n"
     ]
    }
   ],
   "source": [
    "## TOTALLLLSSSSS!!!!!!!!!!!!!!!!1111111111111111!!!!!!!!!!!!\n",
    "\n",
    "# TOTAL HORIZONTAL DISTANCE TRAVELED\n",
    "X_TOT = Lha + Lhb + Lhc + Lhd + Lhe + Lhf\n",
    "print('TOTAL HORIZONTAL DISTANCE TRAVELED', X_TOT, 'm')\n",
    "\n",
    "# TOTAL VERTICAL DISTANCE DESCENDED\n",
    "Y_TOT = Lva + Lvb + Lvc + Lvd + Lve + Lvf\n",
    "print('TOTAL VERTICAL DISTANCE DESCENDED', Y_TOT, 'm')"
   ]
  },
  {
   "cell_type": "code",
   "execution_count": null,
   "metadata": {
    "collapsed": true,
    "scrolled": true
   },
   "outputs": [],
   "source": []
  }
 ],
 "metadata": {
  "kernelspec": {
   "display_name": "Python 3",
   "language": "python",
   "name": "python3"
  },
  "language_info": {
   "codemirror_mode": {
    "name": "ipython",
    "version": 3
   },
   "file_extension": ".py",
   "mimetype": "text/x-python",
   "name": "python",
   "nbconvert_exporter": "python",
   "pygments_lexer": "ipython3",
   "version": "3.4.3"
  },
  "varInspector": {
   "cols": {
    "lenName": 16,
    "lenType": 16,
    "lenVar": 40
   },
   "kernels_config": {
    "python": {
     "delete_cmd_postfix": "",
     "delete_cmd_prefix": "del ",
     "library": "var_list.py",
     "varRefreshCmd": "print(var_dic_list())"
    },
    "r": {
     "delete_cmd_postfix": ") ",
     "delete_cmd_prefix": "rm(",
     "library": "var_list.r",
     "varRefreshCmd": "cat(var_dic_list()) "
    }
   },
   "types_to_exclude": [
    "module",
    "function",
    "builtin_function_or_method",
    "instance",
    "_Feature"
   ],
   "window_display": false
  }
 },
 "nbformat": 4,
 "nbformat_minor": 2
}
