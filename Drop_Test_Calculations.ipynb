{
 "cells": [
  {
   "cell_type": "markdown",
   "metadata": {},
   "source": [
    "# LV3 Recovery Test\n",
    "\n",
    "This notebook will encompass all calculations regarding the LV3 Recovery/eNSR Drop Test.\n",
    "\n",
    "Resources\n",
    "-------\n",
    "[http://www.usma.edu/math/Military%20Math%20Modeling/C5.pdf]  \n",
    "[http://www.the-rocketman.com/drogue-decent-rate.html]"
   ]
  },
  {
   "cell_type": "markdown",
   "metadata": {
    "heading_collapsed": true
   },
   "source": [
    "## setup"
   ]
  },
  {
   "cell_type": "markdown",
   "metadata": {
    "heading_collapsed": true,
    "hidden": true
   },
   "source": [
    "### imports"
   ]
  },
  {
   "cell_type": "code",
   "execution_count": 1,
   "metadata": {
    "collapsed": true,
    "hidden": true,
    "scrolled": true
   },
   "outputs": [],
   "source": [
    "import math\n",
    "import sympy\n",
    "from sympy import Symbol, solve\n",
    "from scipy.integrate import odeint\n",
    "from types import SimpleNamespace\n",
    "import numpy as np\n",
    "import matplotlib.pyplot as plt\n",
    "sympy.init_printing()\n",
    "%matplotlib inline"
   ]
  },
  {
   "cell_type": "markdown",
   "metadata": {
    "heading_collapsed": true,
    "hidden": true
   },
   "source": [
    "### input parameters"
   ]
  },
  {
   "cell_type": "code",
   "execution_count": 2,
   "metadata": {
    "collapsed": true,
    "hidden": true
   },
   "outputs": [],
   "source": [
    "# General variables\n",
    "\n",
    "# mass of payload [kg]\n",
    "m = 28\n",
    "# g = acceleration due to gravity [kg*m/s^2]\n",
    "g = 9.81\n",
    "# P = speed of plane [m/s]\n",
    "P = 38"
   ]
  },
  {
   "cell_type": "markdown",
   "metadata": {},
   "source": [
    "## Calculations"
   ]
  },
  {
   "cell_type": "markdown",
   "metadata": {
    "heading_collapsed": true
   },
   "source": [
    "### Step a - static line extending"
   ]
  },
  {
   "cell_type": "markdown",
   "metadata": {
    "hidden": true
   },
   "source": [
    "#### Assumptions:\n",
    "* no drag\n",
    "* static line is approximately 2m long\n",
    "* plane is flying at approximately 85 mph = 38 m/s\n",
    "\n",
    "#### Variables\n",
    "* va = vertical velocity at instant the system is pushed from the plane [m/s]\n",
    "* sl = static line length [m]\n",
    "* Lva = vertical length gained from step a [m]\n",
    "* Lha = horizontal length gained from step a [m]\n",
    "* ta = time for step a to be complete [s]"
   ]
  },
  {
   "cell_type": "markdown",
   "metadata": {
    "heading_collapsed": true,
    "hidden": true
   },
   "source": [
    "#### calculations"
   ]
  },
  {
   "cell_type": "code",
   "execution_count": 3,
   "metadata": {
    "collapsed": false,
    "hidden": true,
    "scrolled": true
   },
   "outputs": [
    {
     "name": "stdout",
     "output_type": "stream",
     "text": [
      "step a (from drop to static line disconnect):\n",
      "time to free fall fall 2 m =  0.6386  s\n",
      "vertical length gained =  2  m\n",
      "horizontal length gained =  24.2649  m\n"
     ]
    }
   ],
   "source": [
    "va = 0\n",
    "sl = 2\n",
    "\n",
    "## vertical distance gained\n",
    "## since the static line is 2m, assuming it falls only in the vertical direction:\n",
    "Lva = 2\n",
    "\n",
    "# horizontal distance gained\n",
    "## speed of plane times time to drop 2m static line\n",
    "## 1/2*g*ta**2 = sl\n",
    "ta = math.sqrt(2*sl/g)\n",
    "Lha = P*ta\n",
    "\n",
    "print('step a (from drop to static line disconnect):')\n",
    "print('time to free fall fall 2 m = ', round(ta,4), ' s')\n",
    "print('vertical length gained = ', round(Lva,4), ' m')\n",
    "print('horizontal length gained = ', round(Lha,4), ' m')"
   ]
  },
  {
   "cell_type": "markdown",
   "metadata": {
    "heading_collapsed": true
   },
   "source": [
    "### Step b - deployment timer running"
   ]
  },
  {
   "cell_type": "markdown",
   "metadata": {
    "hidden": true
   },
   "source": [
    " deployment timer is a 2 sec timer\n",
    "#### Assumptions\n",
    "* neglecting drag force\n",
    "\n",
    "#### Variables\n",
    "* P = speed of plane\n",
    "* vb = velocity after 2m static line has extended (aka instant static line 'snaps')\n",
    "* g = acceleration due to gravity\n",
    "* Lvb = vertical length gained from step b\n",
    "* Lhb = horizontal length gained from step b\n",
    "* tb = time for step b to be complete"
   ]
  },
  {
   "cell_type": "markdown",
   "metadata": {
    "heading_collapsed": true,
    "hidden": true
   },
   "source": [
    "#### calculations"
   ]
  },
  {
   "cell_type": "code",
   "execution_count": 4,
   "metadata": {
    "collapsed": false,
    "hidden": true,
    "scrolled": true
   },
   "outputs": [
    {
     "name": "stdout",
     "output_type": "stream",
     "text": [
      "step b (from static line disconnect to timer runout):\n",
      "vertical velocity at beginning of step b =  6.2642  m/s\n",
      "vertical length gained =  32.1484  m\n",
      "horizontal length gained =  76  m\n"
     ]
    }
   ],
   "source": [
    "# vertical velocity at end of static line, beginning of timer\n",
    "vb = va + (g*ta)\n",
    "\n",
    "# since the deployment is controlled by a 2 sec timer:\n",
    "tb = 2\n",
    "\n",
    "# vertical length gained\n",
    "Lvb = (vb*tb) + (0.5*g*(tb**2))\n",
    "\n",
    "# horizontal length gained\n",
    "Lhb = P*tb\n",
    "\n",
    "print('step b (from static line disconnect to timer runout):')\n",
    "print('vertical velocity at beginning of step b = ', round(vb,4), ' m/s')\n",
    "print('vertical length gained = ', round(Lvb,4), ' m')\n",
    "print('horizontal length gained = ', round(Lhb,4), ' m')"
   ]
  },
  {
   "cell_type": "markdown",
   "metadata": {
    "heading_collapsed": true
   },
   "source": [
    "### Step c - eNSR ring separation"
   ]
  },
  {
   "cell_type": "markdown",
   "metadata": {
    "hidden": true
   },
   "source": [
    "#### Assumptions:\n",
    "* This step only lasts for an instant; i.e. has no duration\n",
    "* drogue timer begins as ring separation occurs\n",
    "\n",
    "#### Variables\n",
    "* P = speed of plane\n",
    "* vc = velocity at time of ring separation\n",
    "* g = acceleration due to gravity\n",
    "* Lvc = vertical length gained from step c\n",
    "* Lhc = horizontal length gained from step c\n",
    "* tc = time for step c to be complete"
   ]
  },
  {
   "cell_type": "markdown",
   "metadata": {
    "heading_collapsed": true,
    "hidden": true
   },
   "source": [
    "#### calculations"
   ]
  },
  {
   "cell_type": "code",
   "execution_count": 5,
   "metadata": {
    "collapsed": false,
    "hidden": true,
    "scrolled": true
   },
   "outputs": [
    {
     "name": "stdout",
     "output_type": "stream",
     "text": [
      "vertical velocity at ring separation =  25.8842  m/s\n"
     ]
    }
   ],
   "source": [
    "# velocity at time of ring separation, end of timer\n",
    "vc = vb + g*tb\n",
    "\n",
    "Lhc = 0\n",
    "Lvc = 0\n",
    "\n",
    "print('vertical velocity at ring separation = ', round(vc,4), ' m/s')"
   ]
  },
  {
   "cell_type": "markdown",
   "metadata": {
    "heading_collapsed": true
   },
   "source": [
    "### Step d - drogue line is being pulled out"
   ]
  },
  {
   "cell_type": "markdown",
   "metadata": {
    "hidden": true
   },
   "source": [
    "#### Assumptions\n",
    "* no drag force considered for horizon. and vert. decent until drogue is fully unfurled\n",
    "* just accounting for the 50' shock chord, therefore not including the lines coming directly from the 'chute\n",
    "* the drogue pulls out at an angle due to a small amount of drag on the drogue slowing it down horizontally\n",
    "\n",
    "#### Variables\n",
    "* P = speed of plane\n",
    "* vd = velocity after 50' shock chord is drawn out\n",
    "* g = acceleration due to gravity\n",
    "* Lvd = vertical distance gained from step d\n",
    "* Lhd = horizontal distance gained from step d\n",
    "* td = time for step d to be complete\n",
    "\n",
    " the 50' chord as the hypotenuse  \n",
    "$50 = \\sqrt{(x^2) + (y^2)}$\n",
    "\n",
    "vertical length gained from step d  \n",
    "$Lvd = vc*td + 0.5*g*(td^2)$\n",
    "\n",
    "horizontal length gained from step d  \n",
    "$Lhd = P*td$\n",
    "\n",
    "calculate td by replacing x and y in the above equation  \n",
    "$50^2 = (P*td)^2 + (vc*td + g*td^2)^2$"
   ]
  },
  {
   "cell_type": "markdown",
   "metadata": {
    "heading_collapsed": true,
    "hidden": true
   },
   "source": [
    "#### calculations"
   ]
  },
  {
   "cell_type": "code",
   "execution_count": 6,
   "metadata": {
    "collapsed": false,
    "hidden": true,
    "scrolled": false
   },
   "outputs": [
    {
     "name": "stdout",
     "output_type": "stream",
     "text": [
      "possible solutions: [-0.919508022756004, 0.856834792225604, -5.245765098363 - 10.2162218889171*I, -5.245765098363 + 10.2162218889171*I]\n",
      "(0.856834792225604+0j) seems fine\n",
      "\n",
      "time to pull out drogue: 0.8568 s\n",
      "horizontal distance gained =  32.5597 m\n",
      "vertical distance gained =  29.3806 m\n",
      "vertical velocity at instant line becomes taught =  34.2897 m/s\n",
      "horizontal velocity:  38 m/s\n"
     ]
    }
   ],
   "source": [
    "Ps, vds, gs, Lvds, Lhds, tds, vcs = sympy.symbols('Ps vds gs Lvds Lhds tds vcs')\n",
    "Dparms= {Ps: 50, gs: 9.81, vcs: vc}\n",
    "tdEqn= (Ps*tds)**2 + (vcs*tds + 0.5*gs*tds**2)**2 - 50**2\n",
    "tdSolns= sympy.solve(tdEqn.subs(Dparms))\n",
    "print('possible solutions:', tdSolns)\n",
    "for soln in [complex(x) for x in tdSolns]:\n",
    "    if (soln.imag != 0) or (soln.real <= 0):\n",
    "        pass\n",
    "    else:\n",
    "        print(soln, 'seems fine')\n",
    "        td= soln.real\n",
    "\n",
    "# now go back and calculate x and y\n",
    "Lhd = P*td\n",
    "Lvd = vc*td + g*(td**2)\n",
    "# vertical velocity gained after the 50' drop\n",
    "vd = vc + g*td\n",
    "\n",
    "print()\n",
    "print('time to pull out drogue:', round(td,4), 's')\n",
    "print('horizontal distance gained = ', round(Lhd,4), 'm')\n",
    "print('vertical distance gained = ', round(Lvd,4), 'm')\n",
    "print('vertical velocity at instant line becomes taught = ', round(vd,4), 'm/s')\n",
    "print('horizontal velocity: ', P, 'm/s')"
   ]
  },
  {
   "cell_type": "markdown",
   "metadata": {
    "heading_collapsed": true
   },
   "source": [
    "### Step e - drogue is fully deployed"
   ]
  },
  {
   "cell_type": "markdown",
   "metadata": {
    "hidden": true
   },
   "source": [
    "#### Assumptions\n",
    "* drag force in full effect\n",
    "* skipping impulse and time to steady state\n",
    "\n",
    "#### Variables\n",
    "* cd = coeff. of drag [unitless]\n",
    "* D = drag force = mass of payload*g [N]\n",
    "* rho = density of air [kg/m^3]\n",
    "* A = area of parachute [m^2]\n",
    "* v = approx. steady state velocity of drogue [m/s]\n",
    "* m = mass of payload [kg]\n",
    "* Rd = drogue radius [m]\n",
    "* w = wind speed [m/s]"
   ]
  },
  {
   "cell_type": "markdown",
   "metadata": {
    "heading_collapsed": true,
    "hidden": true
   },
   "source": [
    "#### numerical solution"
   ]
  },
  {
   "cell_type": "code",
   "execution_count": 7,
   "metadata": {
    "collapsed": true,
    "hidden": true
   },
   "outputs": [],
   "source": [
    "D = m*g\n",
    "v = 18.5 # according to rocketman\n",
    "rho = 1.2\n",
    "R_d= 0.762\n",
    "A_d = math.pi*(R_d**2)\n",
    "cd = (2*D)/(rho*A_d*v**2)\n",
    "m = 28\n",
    "w = 12.86\n",
    "\n",
    "# bundle up the parameters needed by dragFunc():\n",
    "p= SimpleNamespace()\n",
    "p.rho= rho\n",
    "p.A= A_d\n",
    "p.Cd= cd\n",
    "p.m= m\n",
    "p.g= g\n",
    "p.wx= -w"
   ]
  },
  {
   "cell_type": "code",
   "execution_count": 8,
   "metadata": {
    "collapsed": false,
    "hidden": true,
    "scrolled": false
   },
   "outputs": [
    {
     "name": "stdout",
     "output_type": "stream",
     "text": [
      "At time 1.6262 x and y acceleration are below 1% their original values.\n"
     ]
    },
    {
     "name": "stderr",
     "output_type": "stream",
     "text": [
      "/usr/local/lib/python3.4/dist-packages/ipykernel/__main__.py:19: DeprecationWarning: object of type <class 'float'> cannot be safely interpreted as an integer.\n"
     ]
    }
   ],
   "source": [
    "# m*rddot_x +1/2*rho*A*Cd*sqrt(rdot_x**2+rdot_y**2)*rdot_x =0\n",
    "# m*rddot_y +1/2*rho*A*Cd*sqrt(rdot_x**2+rdot_y**2)*rdot_y +m*g =0\n",
    "def dragFunc(y, t0, p):\n",
    "    r_x=     y[0]\n",
    "    r_y=     y[1]\n",
    "    rdot_x=  y[2]\n",
    "    rdot_y=  y[3]\n",
    "    # rddot_x= 1/p.m*(-1/2*p.rho*p.A*p.Cd*np.sqrt((rdot_x)**2+rdot_y**2)*(rdot_x-p.wx))\n",
    "    # rddot_y= 1/p.m*(-1/2*p.rho*p.A*p.Cd*np.sqrt((rdot_x)**2+rdot_y**2)*rdot_y -p.m*p.g)\n",
    "    rddot_x= 1/p.m*(-1/2*p.rho*p.A*p.Cd*np.sqrt((rdot_x-p.wx)**2+rdot_y**2)*(rdot_x-p.wx))\n",
    "    rddot_y= 1/p.m*(-1/2*p.rho*p.A*p.Cd*np.sqrt((rdot_x-p.wx)**2+rdot_y**2)*rdot_y -p.m*p.g)\n",
    "    return([rdot_x, rdot_y, rddot_x, rddot_y])\n",
    "\n",
    "# set the boundary conditions for the solver:\n",
    "y0= [0, 0, P, -vd]\n",
    "t_step= 0.001\n",
    "t_start= 0\n",
    "t_final= 8\n",
    "times= np.linspace(t_start, t_final, (t_final-t_start)/t_step)\n",
    "# run the simulation:\n",
    "soln= odeint(func= dragFunc, y0= y0, t= times, args= (p,))\n",
    "\n",
    "# find the time when it's okay to deploy the main chute:\n",
    "soln_yddot= np.diff([s[3] for s in soln]) # y acceleration\n",
    "soln_xddot= np.diff([s[2] for s in soln]) # x acceleration\n",
    "for i in range(0, len(soln)):\n",
    "    if (soln_xddot[i] < 0.01*soln_xddot[0]) and (soln_yddot[i] < 0.01*soln_yddot[0]):\n",
    "        print('At time', round(times[i],4), 'x and y acceleration are below 1% their original values.')\n",
    "        t_cr= times[i]\n",
    "        break\n",
    "\n",
    "# chop of the stuff after the critical time:\n",
    "#soln= soln[range(0,i)]\n",
    "#times= times[range(0,i)]"
   ]
  },
  {
   "cell_type": "markdown",
   "metadata": {
    "heading_collapsed": true,
    "hidden": true
   },
   "source": [
    "#### plots"
   ]
  },
  {
   "cell_type": "code",
   "execution_count": 9,
   "metadata": {
    "collapsed": false,
    "hidden": true,
    "scrolled": true
   },
   "outputs": [
    {
     "data": {
      "text/plain": [
       "<matplotlib.text.Text at 0x7f6314865ac8>"
      ]
     },
     "execution_count": 9,
     "metadata": {},
     "output_type": "execute_result"
    },
    {
     "data": {
      "image/png": "[encoded data removed]",
      "text/plain": [
       "<matplotlib.figure.Figure at 0x7f6314abf208>"
      ]
     },
     "metadata": {},
     "output_type": "display_data"
    },
    {
     "data": {
      "image/png": "[encoded data removed]",
      "text/plain": [
       "<matplotlib.figure.Figure at 0x7f63149dfac8>"
      ]
     },
     "metadata": {},
     "output_type": "display_data"
    },
    {
     "data": {
      "image/png": "[encoded data removed]",
      "text/plain": [
       "<matplotlib.figure.Figure at 0x7f631496ab38>"
      ]
     },
     "metadata": {},
     "output_type": "display_data"
    },
    {
     "data": {
      "image/png": "[encoded data removed]",
      "text/plain": [
       "<matplotlib.figure.Figure at 0x7f631497f1d0>"
      ]
     },
     "metadata": {},
     "output_type": "display_data"
    },
    {
     "data": {
      "image/png": "[encoded data removed]",
      "text/plain": [
       "<matplotlib.figure.Figure at 0x7f631490ea20>"
      ]
     },
     "metadata": {},
     "output_type": "display_data"
    }
   ],
   "source": [
    "# break out the solutions into convenient names:\n",
    "soln_x= [s[0] for s in soln]\n",
    "soln_y= [s[1] for s in soln]\n",
    "soln_xdot= [s[2] for s in soln]\n",
    "soln_ydot= [s[3] for s in soln]\n",
    "\n",
    "# plot dat shit:\n",
    "plt.figure(1)\n",
    "plt.plot(soln_x, soln_y)\n",
    "plt.axis('equal')\n",
    "plt.xlabel('horizontal range (m)')\n",
    "plt.ylabel('vertical range (m)')\n",
    "plt.figure(2)\n",
    "plt.plot(times, soln_xdot)\n",
    "plt.xlabel('time (s)')\n",
    "plt.ylabel('horizontal velocity (m/s)')\n",
    "plt.figure(3)\n",
    "plt.plot(times, soln_ydot)\n",
    "plt.xlabel('time (s)')\n",
    "plt.ylabel('vertical velocity (m/s)')\n",
    "plt.figure(4)\n",
    "plt.plot(times[range(0, len(soln_xddot))], soln_xddot)\n",
    "plt.xlabel('time (s)')\n",
    "plt.ylabel('horizontal acceleration (m/s^2)')\n",
    "plt.figure(5)\n",
    "plt.plot(times[range(0, len(soln_yddot))], soln_yddot)\n",
    "plt.xlabel('time (s)')\n",
    "plt.ylabel('vertical acceleration (m/s^2)')"
   ]
  },
  {
   "cell_type": "markdown",
   "metadata": {
    "heading_collapsed": true,
    "hidden": true
   },
   "source": [
    "#### old calculations"
   ]
  },
  {
   "cell_type": "code",
   "execution_count": 10,
   "metadata": {
    "collapsed": false,
    "hidden": true
   },
   "outputs": [],
   "source": [
    "# x-direction calculations\n",
    "##########################\n",
    "\n",
    "# from usma:\n",
    "# mx\" + cd*x' = cd*w\n",
    "####### need python help here #######\n",
    "# ugh, I have to go learn how to use scipy... 1 sec -- Joe\n",
    "# mx\" + cd*x\n",
    "\n",
    "## homogeneous equation mx\" + rho*x' = 0 \n",
    "##  characteristic equation for the homogeneous differential equation is:\n",
    "## mr^2 + rho*r = 0 \n",
    "## where the roots are: \n",
    "## r1 = 0, r2 = -(rho/m)\n",
    "## complementary solution:\n",
    "## xc = C1*e^0 + C2* e^(-(rho*t/m))\n",
    "\n",
    "## non-homogeneous equation mx\" + rho*x' = rho*w\n",
    "## complete solution x = C1 + C2*e^(-(rho*t/m)) + wt\n",
    "\n",
    "## solving for C1 and C2 using results from step d as initial conditions\n",
    "## except time = 0 since we are making calculations just for this step\n",
    "## i.e. x(0) = x_curr_tot and vx(0) = P\n",
    "## therefore C1 =  and C2 =\n",
    "\n",
    "# x_0 = Lha + Lhb + Lhc + Lhd\n",
    "# t = 0\n",
    "# vx_0 = P\n",
    "# C1 = Symbol('C1')\n",
    "# C2 = Symbol('C2')\n",
    "# C_1 = solve(C1 + C2*math.exp(-(rho*t/m)) + w*t - x_0, C1)\n",
    "# C_1\n",
    "\n",
    "# print(C_1)\n",
    "# C_2 = solve(C2*(-(rho/m)) + w - vx_0, C2)\n",
    "# print(C_2)\n",
    "# ## NEEEED HELLLPPP should be using piecewise to solve this\n",
    "# ## copying C_1 output from just above with the C_2 value\n",
    "# calc_C1 = 147.560492558936 + 586.6\n",
    "# print(calc_C1)\n",
    "# \n",
    "# ## therefore the complete solution is: \n",
    "# ## x = 734.1605 - 586.6*exp(-(rho*t/m)) + w*t\n",
    "# \n",
    "# ## if the drogue falls for 3 seconds, then\n",
    "# t = 3\n",
    "# Lhe = 734.1605 - 586.6*math.exp(-(rho*t/m)) + w*t\n",
    "# \n",
    "# print('horizontal distance gained = ', round(Lhe,4), 'm')\n",
    "# print(' ')\n",
    "# \n",
    "# # y-direction calculations\n",
    "# ##########################\n",
    "# \n",
    "# ## from usma\n",
    "# ## characteristic equation:\n",
    "# ## m*r^2 + rho*r = 0\n",
    "# ## where the roots are r = 0 and r = (-b/m)\n",
    "# \n",
    "# ## complete solution:\n",
    "# ## y = C1 + C2*exp(-(rho*t)/m)\n",
    "# ## solving for C1 and C2 using results from step d as initial conditions\n",
    "# ## except time = 0 since we are making calculations just for this step\n",
    "# \n",
    "# y_0 = Lva + Lvb + Lvc + Lvd\n",
    "# print('y_0 = ', y_0)\n",
    "# vy_0 = vd\n",
    "# print('vy_0 = ',vy_0)\n",
    "# t_0 = 0\n",
    "# C1 = Symbol('C1')\n",
    "# C2 = Symbol('C2')\n",
    "# ## NEEEED HELLLPPP should be using piecewise to solve this\n",
    "# # C1 equation\n",
    "# C_1 = solve(C1 + C2*math.exp(-(rho*t_0/m)) - y_0, C1)\n",
    "# print('C1 equation: ', C_1)\n",
    "# # C2 equation/value\n",
    "# C_2 = solve(C2*(-(rho/m)*math.exp(-(rho*t_0/m))) - vy_0, C2)\n",
    "# print('C2 = ', C_2)\n",
    "# ## copying C_1 output from just above with the C_2 value\n",
    "# calc_C1 = 793.253769802079 + 62.2619406518579                   #62.2619406518579 + (0.879350749407306*793.253769802079)\n",
    "# print('C1 = ', calc_C1)\n",
    "# \n",
    "# # NEED HELP: need to make C_2 a number (int, float)\n",
    "# ## if the drogue falls for 3 seconds, then\n",
    "# t = 3\n",
    "# Lve = calc_C1 + (-793.253769802079*math.exp(-(rho/m)*t))\n",
    "# \n",
    "# print('vertical distance gained = ', Lve, 'm')\n",
    "# \n",
    "# ## Maayybbbeee\n",
    "# \n",
    "# vert_length = v*t\n",
    "# print(vert_length)"
   ]
  },
  {
   "cell_type": "markdown",
   "metadata": {
    "heading_collapsed": true
   },
   "source": [
    "### Step f - main 'chute fully deployed"
   ]
  },
  {
   "cell_type": "markdown",
   "metadata": {
    "hidden": true
   },
   "source": [
    "#### Assumptions\n",
    "* drag force in full effect\n",
    "* skipping impulse and time to steady state\n",
    "* main 'chute is a full 18' in dia.\n",
    "* after payload has gone through the drogue decent, the horizontal velocity is the same as the wind speed\n",
    "\n",
    "* cd = coeff. of drag [unitless]\n",
    "* D = drag force = weight of payload*g [N]\n",
    "* rho = density of air [kg/m^3]\n",
    "* A = area of parachute [m^2]\n",
    "* v_main = approx. steady state velocity of main 'chute [m/s]\n",
    "* m = mass of payload [kg]\n",
    "* w = wind speed [m/s]"
   ]
  },
  {
   "cell_type": "markdown",
   "metadata": {
    "heading_collapsed": true,
    "hidden": true
   },
   "source": [
    "#### calculations"
   ]
  },
  {
   "cell_type": "code",
   "execution_count": 11,
   "metadata": {
    "collapsed": false,
    "hidden": true
   },
   "outputs": [
    {
     "ename": "NameError",
     "evalue": "name 'Lhe' is not defined",
     "output_type": "error",
     "traceback": [
      "\u001b[0;31m---------------------------------------------------------------------------\u001b[0m",
      "\u001b[0;31mNameError\u001b[0m                                 Traceback (most recent call last)",
      "\u001b[0;32m<ipython-input-11-24bab9c86086>\u001b[0m in \u001b[0;36m<module>\u001b[0;34m()\u001b[0m\n\u001b[1;32m     31\u001b[0m \u001b[0;31m## therefore C1 =  and C2 =\u001b[0m\u001b[0;34m\u001b[0m\u001b[0;34m\u001b[0m\u001b[0m\n\u001b[1;32m     32\u001b[0m \u001b[0;34m\u001b[0m\u001b[0m\n\u001b[0;32m---> 33\u001b[0;31m \u001b[0mx_0\u001b[0m \u001b[0;34m=\u001b[0m \u001b[0mLha\u001b[0m \u001b[0;34m+\u001b[0m \u001b[0mLhb\u001b[0m \u001b[0;34m+\u001b[0m \u001b[0mLhc\u001b[0m \u001b[0;34m+\u001b[0m \u001b[0mLhd\u001b[0m \u001b[0;34m+\u001b[0m \u001b[0mLhe\u001b[0m\u001b[0;34m\u001b[0m\u001b[0m\n\u001b[0m\u001b[1;32m     34\u001b[0m \u001b[0mt\u001b[0m \u001b[0;34m=\u001b[0m \u001b[0;36m0\u001b[0m\u001b[0;34m\u001b[0m\u001b[0m\n\u001b[1;32m     35\u001b[0m \u001b[0mvx_0\u001b[0m \u001b[0;34m=\u001b[0m \u001b[0mw\u001b[0m\u001b[0;34m\u001b[0m\u001b[0m\n",
      "\u001b[0;31mNameError\u001b[0m: name 'Lhe' is not defined"
     ]
    }
   ],
   "source": [
    "v_main = 4.83108 # according to rocketman\n",
    "rho = 1.2\n",
    "A = math.pi*(5.4864**2)\n",
    "m = 28\n",
    "D = m*g\n",
    "cd = (2*D)/(rho*A*v)\n",
    "w = 12.86\n",
    "Lvf = 304.8\n",
    "\n",
    "# x-direction calculations\n",
    "##########################\n",
    "\n",
    "# from usma:\n",
    "# mx\" + cd*x' = cd*w\n",
    "####### need python help here #######\n",
    "\n",
    "## homogeneous equation mx\" + rho*x' = 0 \n",
    "## characteristic equation for the homogeneous differential equation is:\n",
    "## mr^2 + rho*r = 0 \n",
    "## where the roots are: \n",
    "## r1 = 0, r2 = -(rho/m)\n",
    "## complementary solution:\n",
    "## xc = C1*e^0 + C2* e^(-(rho*t/m))\n",
    "\n",
    "## non-homogeneous equation mx\" + rho*x' = rho*w\n",
    "## complete solution x = C1 + C2*e^(-(rho*t/m)) + wt\n",
    "\n",
    "## solving for C1 and C2 using results from step d as initial conditions\n",
    "## except time = 0 since we are making calculations just for this step\n",
    "## i.e. x(0) = x_curr_tot and vx(0) = P\n",
    "## therefore C1 =  and C2 =\n",
    "\n",
    "x_0 = Lha + Lhb + Lhc + Lhd + Lhe\n",
    "t = 0\n",
    "vx_0 = w\n",
    "C1 = Symbol('C1')\n",
    "C2 = Symbol('C2')\n",
    "C_1 = solve(C1 + C2*math.exp(-(rho*t/m)) + w*t - x_0, C1)\n",
    "print(C_1)\n",
    "C_2 = solve(C2*(-(rho/m)) + w - vx_0, C2)\n",
    "print(C_2)\n",
    "## NEEEED HELLLPPP should be using piecewise to solve this\n",
    "## copying C_1 output from just above with the C_2 value\n",
    "calc_C1 = 0 + 472.565722165574\n",
    "print(calc_C1)\n",
    "\n",
    "## therefore the complete solution is: \n",
    "## x = 472.565722165574 - 0 + w*t\n",
    "\n",
    "## time for the main to drop approximately 1000ft = 304.8m\n",
    "d = Lvf\n",
    "t = Lvf/v\n",
    "Lhf = 472.565722165574 + w*t\n",
    "\n",
    "print('horizontal distance gained = ', Lhf, 'm')\n",
    "\n",
    "# y-direction calculations\n",
    "##########################\n",
    "\n",
    "## from usma\n",
    "## characteristic equation:\n",
    "## m*r^2 + rho*r = 0\n",
    "## where the roots are r = 0 and r = (-b/m)\n",
    "\n",
    "## completed solution:\n",
    "## y = C1 + C2*exp(-(rho*t)/m)\n",
    "## solving for C1 and C2 using results from step d as initial conditions\n",
    "## except time = 0 since we are making calculations just for this step\n",
    "\n",
    "y_0 = Lva + Lvb + Lvc + Lvd + Lve\n",
    "print('current y decent length ', y_0)\n",
    "y_f = y_0 + Lvf\n",
    "v_f = 4.831\n",
    "\n",
    "C_1 = ((v_f*m)/rho) + 1928.03\n",
    "C_2 = 1623.23 - C_1\n",
    "\n",
    "\n",
    "\n",
    "\n",
    "\n",
    "#vy_0 = v_drogue\n",
    "##C1 = Symbol('C1')\n",
    "##C2 = Symbol('C2')\n",
    "## NEEEED HELLLPPP should be using piecewise to solve this\n",
    "##C_1 = solve(C1 + C2*math.exp(-(rho*t/m)) - y_0, C1)\n",
    "print('C1 = ', C_1)\n",
    "#C_2 = solve(C2*(-(rho/m)) - vy_0, C2)\n",
    "print('C2 = ', C_2)\n",
    "## copying C_1 output from just above with the C_2 value\n",
    "##calc_C1 = (0.0669425369539634*431.666666666667) + 1558.70743507288\n",
    "#print(calc_C1)\n",
    "\n",
    "##Lvf = 1587.6042968580075 +  (431.666666666667*math.exp(-(rho/m)*t))\n",
    "\n",
    "print('vertical distance gained = ', Lvf, 'm')"
   ]
  },
  {
   "cell_type": "code",
   "execution_count": null,
   "metadata": {
    "collapsed": false,
    "hidden": true
   },
   "outputs": [],
   "source": [
    "## TOTALLLLSSSSS!!!!!!!!!!!!!!!!1111111111111111!!!!!!!!!!!!\n",
    "\n",
    "# TOTAL HORIZONTAL DISTANCE TRAVELED\n",
    "X_TOT = Lha + Lhb + Lhc + Lhd + Lhe + Lhf\n",
    "print('TOTAL HORIZONTAL DISTANCE TRAVELED', X_TOT, 'm')\n",
    "\n",
    "# TOTAL VERTICAL DISTANCE DESCENDED\n",
    "Y_TOT = Lva + Lvb + Lvc + Lvd + Lve + Lvf\n",
    "print('TOTAL VERTICAL DISTANCE DESCENDED', Y_TOT, 'm')"
   ]
  },
  {
   "cell_type": "code",
   "execution_count": null,
   "metadata": {
    "collapsed": true,
    "hidden": true,
    "scrolled": true
   },
   "outputs": [],
   "source": []
  }
 ],
 "metadata": {
  "kernelspec": {
   "display_name": "Python 3",
   "language": "python",
   "name": "python3"
  },
  "language_info": {
   "codemirror_mode": {
    "name": "ipython",
    "version": 3
   },
   "file_extension": ".py",
   "mimetype": "text/x-python",
   "name": "python",
   "nbconvert_exporter": "python",
   "pygments_lexer": "ipython3",
   "version": "3.4.3"
  },
  "varInspector": {
   "cols": {
    "lenName": 16,
    "lenType": 16,
    "lenVar": 40
   },
   "kernels_config": {
    "python": {
     "delete_cmd_postfix": "",
     "delete_cmd_prefix": "del ",
     "library": "var_list.py",
     "varRefreshCmd": "print(var_dic_list())"
    },
    "r": {
     "delete_cmd_postfix": ") ",
     "delete_cmd_prefix": "rm(",
     "library": "var_list.r",
     "varRefreshCmd": "cat(var_dic_list()) "
    }
   },
   "types_to_exclude": [
    "module",
    "function",
    "builtin_function_or_method",
    "instance",
    "_Feature"
   ],
   "window_display": false
  }
 },
 "nbformat": 4,
 "nbformat_minor": 2
}
